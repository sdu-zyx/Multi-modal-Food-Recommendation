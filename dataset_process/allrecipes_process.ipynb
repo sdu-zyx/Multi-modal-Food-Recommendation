{
 "cells": [
  {
   "cell_type": "code",
   "execution_count": 1,
   "id": "initial_id",
   "metadata": {
    "collapsed": true,
    "ExecuteTime": {
     "end_time": "2025-08-28T05:24:54.549017Z",
     "start_time": "2025-08-28T05:24:42.691138Z"
    }
   },
   "outputs": [
    {
     "name": "stdout",
     "output_type": "stream",
     "text": [
      "data preprocess start\n",
      "******************************\n"
     ]
    },
    {
     "data": {
      "text/plain": "       recipe_id                        recipe_name  aver_rate  \\\n0         222388                     Homemade Bacon   5.000000   \n1         240488  Pork Loin, Apples, and Sauerkraut   4.764706   \n2         218939   Foolproof Rosemary Chicken Wings   4.571429   \n3          87211              Chicken Pesto Paninis   4.625000   \n4         245714                 Potato Bacon Pizza   4.500000   \n...          ...                                ...        ...   \n49693     222886             Grateful Dead Cocktail   3.500000   \n49694      25650        Cheese Filling For Pastries   4.333333   \n49695      23544                     Peach Smoothie   3.615385   \n49696     170710                Double Dare Peaches   4.714286   \n49697      79774         All-Purpose Marinara Sauce   4.500000   \n\n                                               image_url  review_nums  \\\n0      https://images.media-allrecipes.com/userphotos...            3   \n1      https://images.media-allrecipes.com/userphotos...           29   \n2      https://images.media-allrecipes.com/userphotos...           12   \n3      https://images.media-allrecipes.com/userphotos...          163   \n4      https://images.media-allrecipes.com/userphotos...            2   \n...                                                  ...          ...   \n49693  https://images.media-allrecipes.com/userphotos...            4   \n49694  https://images.media-allrecipes.com/userphotos...            3   \n49695  https://images.media-allrecipes.com/userphotos...           21   \n49696  https://images.media-allrecipes.com/userphotos...           19   \n49697  https://images.media-allrecipes.com/userphotos...            2   \n\n                                             ingredients  \\\n0      pork belly^smoked paprika^kosher salt^ground b...   \n1      sauerkraut drained^Granny Smith apples sliced^...   \n2      chicken wings^sprigs rosemary^head garlic^oliv...   \n3      focaccia bread quartered^prepared basil pesto^...   \n4      red potatoes^strips bacon^Sauce:^heavy whippin...   \n...                                                  ...   \n49693  fluid ounce tequila^fluid ounce vodka^fluid ou...   \n49694  raisins^brandy^cream cheese^white sugar^all-pu...   \n49695  sliced peaches drained^scoops vanilla ice crea...   \n49696  butter^habanero peppers^fresh peaches^brown su...   \n49697  olive oil^bulb garlic^tomatoes chopped^diced t...   \n\n                                      cooking_directions  \\\n0      {'directions': u'Prep\\n5 m\\nCook\\n2 h 45 m\\nRe...   \n1      {'directions': u'Prep\\n15 m\\nCook\\n2 h 30 m\\nR...   \n2      {'directions': u\"Prep\\n20 m\\nCook\\n40 m\\nReady...   \n3      {'directions': u'Prep\\n15 m\\nCook\\n5 m\\nReady ...   \n4      {'directions': u'Prep\\n20 m\\nCook\\n45 m\\nReady...   \n...                                                  ...   \n49693  {'directions': u'Prep\\n5 m\\nReady In\\n5 m\\nCom...   \n49694  {'directions': u'Prep\\n15 m\\nReady In\\n15 m\\nS...   \n49695  {'directions': u'Prep\\n1 m\\nReady In\\n1 m\\nIn ...   \n49696  {'directions': u'Prep\\n20 m\\nCook\\n10 m\\nReady...   \n49697  {'directions': u'Prep\\n15 m\\nCook\\n40 m\\nReady...   \n\n                                              nutritions  \\\n0      {u'niacin': {u'hasCompleteData': False, u'name...   \n1      {u'niacin': {u'hasCompleteData': False, u'name...   \n2      {u'niacin': {u'hasCompleteData': True, u'name'...   \n3      {u'niacin': {u'hasCompleteData': True, u'name'...   \n4      {u'niacin': {u'hasCompleteData': True, u'name'...   \n...                                                  ...   \n49693  {u'niacin': {u'hasCompleteData': False, u'name...   \n49694  {u'niacin': {u'hasCompleteData': True, u'name'...   \n49695  {u'niacin': {u'hasCompleteData': False, u'name...   \n49696  {u'niacin': {u'hasCompleteData': True, u'name'...   \n49697  {u'niacin': {u'hasCompleteData': False, u'name...   \n\n                                                 reviews  \n0      {8542392: {'rating': 5, 'followersCount': 11, ...  \n1      {3574785: {'rating': 5, 'followersCount': 0, '...  \n2      {13774946: {'rating': 5, 'followersCount': 0, ...  \n3      {1563136: {'rating': 5, 'followersCount': 0, '...  \n4      {2945555: {'rating': 5, 'followersCount': 6690...  \n...                                                  ...  \n49693  {2043209: {'rating': 5, 'followersCount': 1509...  \n49694  {1380296: {'rating': 4, 'followersCount': 0, '...  \n49695  {6412992: {'rating': 4, 'followersCount': 7, '...  \n49696  {2381248: {'rating': 5, 'followersCount': 2, '...  \n49697  {1245064: {'rating': 4, 'followersCount': 4, '...  \n\n[49698 rows x 9 columns]",
      "text/html": "<div>\n<style scoped>\n    .dataframe tbody tr th:only-of-type {\n        vertical-align: middle;\n    }\n\n    .dataframe tbody tr th {\n        vertical-align: top;\n    }\n\n    .dataframe thead th {\n        text-align: right;\n    }\n</style>\n<table border=\"1\" class=\"dataframe\">\n  <thead>\n    <tr style=\"text-align: right;\">\n      <th></th>\n      <th>recipe_id</th>\n      <th>recipe_name</th>\n      <th>aver_rate</th>\n      <th>image_url</th>\n      <th>review_nums</th>\n      <th>ingredients</th>\n      <th>cooking_directions</th>\n      <th>nutritions</th>\n      <th>reviews</th>\n    </tr>\n  </thead>\n  <tbody>\n    <tr>\n      <th>0</th>\n      <td>222388</td>\n      <td>Homemade Bacon</td>\n      <td>5.000000</td>\n      <td>https://images.media-allrecipes.com/userphotos...</td>\n      <td>3</td>\n      <td>pork belly^smoked paprika^kosher salt^ground b...</td>\n      <td>{'directions': u'Prep\\n5 m\\nCook\\n2 h 45 m\\nRe...</td>\n      <td>{u'niacin': {u'hasCompleteData': False, u'name...</td>\n      <td>{8542392: {'rating': 5, 'followersCount': 11, ...</td>\n    </tr>\n    <tr>\n      <th>1</th>\n      <td>240488</td>\n      <td>Pork Loin, Apples, and Sauerkraut</td>\n      <td>4.764706</td>\n      <td>https://images.media-allrecipes.com/userphotos...</td>\n      <td>29</td>\n      <td>sauerkraut drained^Granny Smith apples sliced^...</td>\n      <td>{'directions': u'Prep\\n15 m\\nCook\\n2 h 30 m\\nR...</td>\n      <td>{u'niacin': {u'hasCompleteData': False, u'name...</td>\n      <td>{3574785: {'rating': 5, 'followersCount': 0, '...</td>\n    </tr>\n    <tr>\n      <th>2</th>\n      <td>218939</td>\n      <td>Foolproof Rosemary Chicken Wings</td>\n      <td>4.571429</td>\n      <td>https://images.media-allrecipes.com/userphotos...</td>\n      <td>12</td>\n      <td>chicken wings^sprigs rosemary^head garlic^oliv...</td>\n      <td>{'directions': u\"Prep\\n20 m\\nCook\\n40 m\\nReady...</td>\n      <td>{u'niacin': {u'hasCompleteData': True, u'name'...</td>\n      <td>{13774946: {'rating': 5, 'followersCount': 0, ...</td>\n    </tr>\n    <tr>\n      <th>3</th>\n      <td>87211</td>\n      <td>Chicken Pesto Paninis</td>\n      <td>4.625000</td>\n      <td>https://images.media-allrecipes.com/userphotos...</td>\n      <td>163</td>\n      <td>focaccia bread quartered^prepared basil pesto^...</td>\n      <td>{'directions': u'Prep\\n15 m\\nCook\\n5 m\\nReady ...</td>\n      <td>{u'niacin': {u'hasCompleteData': True, u'name'...</td>\n      <td>{1563136: {'rating': 5, 'followersCount': 0, '...</td>\n    </tr>\n    <tr>\n      <th>4</th>\n      <td>245714</td>\n      <td>Potato Bacon Pizza</td>\n      <td>4.500000</td>\n      <td>https://images.media-allrecipes.com/userphotos...</td>\n      <td>2</td>\n      <td>red potatoes^strips bacon^Sauce:^heavy whippin...</td>\n      <td>{'directions': u'Prep\\n20 m\\nCook\\n45 m\\nReady...</td>\n      <td>{u'niacin': {u'hasCompleteData': True, u'name'...</td>\n      <td>{2945555: {'rating': 5, 'followersCount': 6690...</td>\n    </tr>\n    <tr>\n      <th>...</th>\n      <td>...</td>\n      <td>...</td>\n      <td>...</td>\n      <td>...</td>\n      <td>...</td>\n      <td>...</td>\n      <td>...</td>\n      <td>...</td>\n      <td>...</td>\n    </tr>\n    <tr>\n      <th>49693</th>\n      <td>222886</td>\n      <td>Grateful Dead Cocktail</td>\n      <td>3.500000</td>\n      <td>https://images.media-allrecipes.com/userphotos...</td>\n      <td>4</td>\n      <td>fluid ounce tequila^fluid ounce vodka^fluid ou...</td>\n      <td>{'directions': u'Prep\\n5 m\\nReady In\\n5 m\\nCom...</td>\n      <td>{u'niacin': {u'hasCompleteData': False, u'name...</td>\n      <td>{2043209: {'rating': 5, 'followersCount': 1509...</td>\n    </tr>\n    <tr>\n      <th>49694</th>\n      <td>25650</td>\n      <td>Cheese Filling For Pastries</td>\n      <td>4.333333</td>\n      <td>https://images.media-allrecipes.com/userphotos...</td>\n      <td>3</td>\n      <td>raisins^brandy^cream cheese^white sugar^all-pu...</td>\n      <td>{'directions': u'Prep\\n15 m\\nReady In\\n15 m\\nS...</td>\n      <td>{u'niacin': {u'hasCompleteData': True, u'name'...</td>\n      <td>{1380296: {'rating': 4, 'followersCount': 0, '...</td>\n    </tr>\n    <tr>\n      <th>49695</th>\n      <td>23544</td>\n      <td>Peach Smoothie</td>\n      <td>3.615385</td>\n      <td>https://images.media-allrecipes.com/userphotos...</td>\n      <td>21</td>\n      <td>sliced peaches drained^scoops vanilla ice crea...</td>\n      <td>{'directions': u'Prep\\n1 m\\nReady In\\n1 m\\nIn ...</td>\n      <td>{u'niacin': {u'hasCompleteData': False, u'name...</td>\n      <td>{6412992: {'rating': 4, 'followersCount': 7, '...</td>\n    </tr>\n    <tr>\n      <th>49696</th>\n      <td>170710</td>\n      <td>Double Dare Peaches</td>\n      <td>4.714286</td>\n      <td>https://images.media-allrecipes.com/userphotos...</td>\n      <td>19</td>\n      <td>butter^habanero peppers^fresh peaches^brown su...</td>\n      <td>{'directions': u'Prep\\n20 m\\nCook\\n10 m\\nReady...</td>\n      <td>{u'niacin': {u'hasCompleteData': True, u'name'...</td>\n      <td>{2381248: {'rating': 5, 'followersCount': 2, '...</td>\n    </tr>\n    <tr>\n      <th>49697</th>\n      <td>79774</td>\n      <td>All-Purpose Marinara Sauce</td>\n      <td>4.500000</td>\n      <td>https://images.media-allrecipes.com/userphotos...</td>\n      <td>2</td>\n      <td>olive oil^bulb garlic^tomatoes chopped^diced t...</td>\n      <td>{'directions': u'Prep\\n15 m\\nCook\\n40 m\\nReady...</td>\n      <td>{u'niacin': {u'hasCompleteData': False, u'name...</td>\n      <td>{1245064: {'rating': 4, 'followersCount': 4, '...</td>\n    </tr>\n  </tbody>\n</table>\n<p>49698 rows × 9 columns</p>\n</div>"
     },
     "execution_count": 1,
     "metadata": {},
     "output_type": "execute_result"
    }
   ],
   "source": [
    "import numpy as np\n",
    "import pandas as pd\n",
    "\n",
    "pd.set_option('display.max_columns', None)\n",
    "np.random.seed(2024)\n",
    "print(\"data preprocess start\")\n",
    "print(\"*\" * 30)\n",
    "file_path = '/home/zyx2509/Food_dataset/Allrecipes/raw_dataset/'\n",
    "# 读取 CSV 文件\n",
    "raw_recipe = pd.read_csv(file_path + 'raw-data_recipe.csv')\n",
    "raw_recipe"
   ]
  },
  {
   "cell_type": "code",
   "outputs": [
    {
     "data": {
      "text/plain": "       recipe_id                              recipe_name  \\\n0         240488        Pork Loin, Apples, and Sauerkraut   \n1         218939         Foolproof Rosemary Chicken Wings   \n2          87211                    Chicken Pesto Paninis   \n3         245714                       Potato Bacon Pizza   \n4         218545  Latin-Inspired Spicy Cream Chicken Stew   \n...          ...                                      ...   \n45625     222886                   Grateful Dead Cocktail   \n45626      25650              Cheese Filling For Pastries   \n45627      23544                           Peach Smoothie   \n45628     170710                      Double Dare Peaches   \n45629      79774               All-Purpose Marinara Sauce   \n\n                                               image_url  \\\n0      https://images.media-allrecipes.com/userphotos...   \n1      https://images.media-allrecipes.com/userphotos...   \n2      https://images.media-allrecipes.com/userphotos...   \n3      https://images.media-allrecipes.com/userphotos...   \n4      https://images.media-allrecipes.com/userphotos...   \n...                                                  ...   \n45625  https://images.media-allrecipes.com/userphotos...   \n45626  https://images.media-allrecipes.com/userphotos...   \n45627  https://images.media-allrecipes.com/userphotos...   \n45628  https://images.media-allrecipes.com/userphotos...   \n45629  https://images.media-allrecipes.com/userphotos...   \n\n                                             ingredients  \\\n0      sauerkraut drained^Granny Smith apples sliced^...   \n1      chicken wings^sprigs rosemary^head garlic^oliv...   \n2      focaccia bread quartered^prepared basil pesto^...   \n3      red potatoes^strips bacon^Sauce:^heavy whippin...   \n4      skinless boneless chicken breast halves^diced ...   \n...                                                  ...   \n45625  fluid ounce tequila^fluid ounce vodka^fluid ou...   \n45626  raisins^brandy^cream cheese^white sugar^all-pu...   \n45627  sliced peaches drained^scoops vanilla ice crea...   \n45628  butter^habanero peppers^fresh peaches^brown su...   \n45629  olive oil^bulb garlic^tomatoes chopped^diced t...   \n\n                                      cooking_directions  \\\n0      {'directions': u'Prep\\n15 m\\nCook\\n2 h 30 m\\nR...   \n1      {'directions': u\"Prep\\n20 m\\nCook\\n40 m\\nReady...   \n2      {'directions': u'Prep\\n15 m\\nCook\\n5 m\\nReady ...   \n3      {'directions': u'Prep\\n20 m\\nCook\\n45 m\\nReady...   \n4      {'directions': u'Prep\\n10 m\\nCook\\n8 h 15 m\\nR...   \n...                                                  ...   \n45625  {'directions': u'Prep\\n5 m\\nReady In\\n5 m\\nCom...   \n45626  {'directions': u'Prep\\n15 m\\nReady In\\n15 m\\nS...   \n45627  {'directions': u'Prep\\n1 m\\nReady In\\n1 m\\nIn ...   \n45628  {'directions': u'Prep\\n20 m\\nCook\\n10 m\\nReady...   \n45629  {'directions': u'Prep\\n15 m\\nCook\\n40 m\\nReady...   \n\n                                              nutritions  \n0      {u'niacin': {u'hasCompleteData': False, u'name...  \n1      {u'niacin': {u'hasCompleteData': True, u'name'...  \n2      {u'niacin': {u'hasCompleteData': True, u'name'...  \n3      {u'niacin': {u'hasCompleteData': True, u'name'...  \n4      {u'niacin': {u'hasCompleteData': False, u'name...  \n...                                                  ...  \n45625  {u'niacin': {u'hasCompleteData': False, u'name...  \n45626  {u'niacin': {u'hasCompleteData': True, u'name'...  \n45627  {u'niacin': {u'hasCompleteData': False, u'name...  \n45628  {u'niacin': {u'hasCompleteData': True, u'name'...  \n45629  {u'niacin': {u'hasCompleteData': False, u'name...  \n\n[45630 rows x 6 columns]",
      "text/html": "<div>\n<style scoped>\n    .dataframe tbody tr th:only-of-type {\n        vertical-align: middle;\n    }\n\n    .dataframe tbody tr th {\n        vertical-align: top;\n    }\n\n    .dataframe thead th {\n        text-align: right;\n    }\n</style>\n<table border=\"1\" class=\"dataframe\">\n  <thead>\n    <tr style=\"text-align: right;\">\n      <th></th>\n      <th>recipe_id</th>\n      <th>recipe_name</th>\n      <th>image_url</th>\n      <th>ingredients</th>\n      <th>cooking_directions</th>\n      <th>nutritions</th>\n    </tr>\n  </thead>\n  <tbody>\n    <tr>\n      <th>0</th>\n      <td>240488</td>\n      <td>Pork Loin, Apples, and Sauerkraut</td>\n      <td>https://images.media-allrecipes.com/userphotos...</td>\n      <td>sauerkraut drained^Granny Smith apples sliced^...</td>\n      <td>{'directions': u'Prep\\n15 m\\nCook\\n2 h 30 m\\nR...</td>\n      <td>{u'niacin': {u'hasCompleteData': False, u'name...</td>\n    </tr>\n    <tr>\n      <th>1</th>\n      <td>218939</td>\n      <td>Foolproof Rosemary Chicken Wings</td>\n      <td>https://images.media-allrecipes.com/userphotos...</td>\n      <td>chicken wings^sprigs rosemary^head garlic^oliv...</td>\n      <td>{'directions': u\"Prep\\n20 m\\nCook\\n40 m\\nReady...</td>\n      <td>{u'niacin': {u'hasCompleteData': True, u'name'...</td>\n    </tr>\n    <tr>\n      <th>2</th>\n      <td>87211</td>\n      <td>Chicken Pesto Paninis</td>\n      <td>https://images.media-allrecipes.com/userphotos...</td>\n      <td>focaccia bread quartered^prepared basil pesto^...</td>\n      <td>{'directions': u'Prep\\n15 m\\nCook\\n5 m\\nReady ...</td>\n      <td>{u'niacin': {u'hasCompleteData': True, u'name'...</td>\n    </tr>\n    <tr>\n      <th>3</th>\n      <td>245714</td>\n      <td>Potato Bacon Pizza</td>\n      <td>https://images.media-allrecipes.com/userphotos...</td>\n      <td>red potatoes^strips bacon^Sauce:^heavy whippin...</td>\n      <td>{'directions': u'Prep\\n20 m\\nCook\\n45 m\\nReady...</td>\n      <td>{u'niacin': {u'hasCompleteData': True, u'name'...</td>\n    </tr>\n    <tr>\n      <th>4</th>\n      <td>218545</td>\n      <td>Latin-Inspired Spicy Cream Chicken Stew</td>\n      <td>https://images.media-allrecipes.com/userphotos...</td>\n      <td>skinless boneless chicken breast halves^diced ...</td>\n      <td>{'directions': u'Prep\\n10 m\\nCook\\n8 h 15 m\\nR...</td>\n      <td>{u'niacin': {u'hasCompleteData': False, u'name...</td>\n    </tr>\n    <tr>\n      <th>...</th>\n      <td>...</td>\n      <td>...</td>\n      <td>...</td>\n      <td>...</td>\n      <td>...</td>\n      <td>...</td>\n    </tr>\n    <tr>\n      <th>45625</th>\n      <td>222886</td>\n      <td>Grateful Dead Cocktail</td>\n      <td>https://images.media-allrecipes.com/userphotos...</td>\n      <td>fluid ounce tequila^fluid ounce vodka^fluid ou...</td>\n      <td>{'directions': u'Prep\\n5 m\\nReady In\\n5 m\\nCom...</td>\n      <td>{u'niacin': {u'hasCompleteData': False, u'name...</td>\n    </tr>\n    <tr>\n      <th>45626</th>\n      <td>25650</td>\n      <td>Cheese Filling For Pastries</td>\n      <td>https://images.media-allrecipes.com/userphotos...</td>\n      <td>raisins^brandy^cream cheese^white sugar^all-pu...</td>\n      <td>{'directions': u'Prep\\n15 m\\nReady In\\n15 m\\nS...</td>\n      <td>{u'niacin': {u'hasCompleteData': True, u'name'...</td>\n    </tr>\n    <tr>\n      <th>45627</th>\n      <td>23544</td>\n      <td>Peach Smoothie</td>\n      <td>https://images.media-allrecipes.com/userphotos...</td>\n      <td>sliced peaches drained^scoops vanilla ice crea...</td>\n      <td>{'directions': u'Prep\\n1 m\\nReady In\\n1 m\\nIn ...</td>\n      <td>{u'niacin': {u'hasCompleteData': False, u'name...</td>\n    </tr>\n    <tr>\n      <th>45628</th>\n      <td>170710</td>\n      <td>Double Dare Peaches</td>\n      <td>https://images.media-allrecipes.com/userphotos...</td>\n      <td>butter^habanero peppers^fresh peaches^brown su...</td>\n      <td>{'directions': u'Prep\\n20 m\\nCook\\n10 m\\nReady...</td>\n      <td>{u'niacin': {u'hasCompleteData': True, u'name'...</td>\n    </tr>\n    <tr>\n      <th>45629</th>\n      <td>79774</td>\n      <td>All-Purpose Marinara Sauce</td>\n      <td>https://images.media-allrecipes.com/userphotos...</td>\n      <td>olive oil^bulb garlic^tomatoes chopped^diced t...</td>\n      <td>{'directions': u'Prep\\n15 m\\nCook\\n40 m\\nReady...</td>\n      <td>{u'niacin': {u'hasCompleteData': False, u'name...</td>\n    </tr>\n  </tbody>\n</table>\n<p>45630 rows × 6 columns</p>\n</div>"
     },
     "execution_count": 2,
     "metadata": {},
     "output_type": "execute_result"
    }
   ],
   "source": [
    "core_recipe = pd.read_csv(file_path + 'core-data_recipe.csv')\n",
    "core_recipe"
   ],
   "metadata": {
    "collapsed": false,
    "ExecuteTime": {
     "end_time": "2025-08-28T05:25:02.072998Z",
     "start_time": "2025-08-28T05:25:00.660507Z"
    }
   },
   "id": "ec14b35462795e90",
   "execution_count": 2
  },
  {
   "cell_type": "code",
   "outputs": [
    {
     "name": "stdout",
     "output_type": "stream",
     "text": [
      "length of user2idx dict: 68768\n",
      "length of item2idx dict: 45630\n"
     ]
    }
   ],
   "source": [
    "core_train_rating = pd.read_csv(file_path + 'core-data-train_rating.csv')\n",
    "core_test_rating = pd.read_csv(file_path + 'core-data-test_rating.csv')\n",
    "core_valid_rating = pd.read_csv(file_path + 'core-data-valid_rating.csv')\n",
    "\n",
    "from sklearn.preprocessing import LabelEncoder\n",
    "\n",
    "user_ids = core_train_rating['user_id'].unique()\n",
    "user_encoder = LabelEncoder().fit(user_ids)\n",
    "\n",
    "user_to_idx = {v: i for i, v in enumerate(user_encoder.classes_)}\n",
    "idx_to_user = {i: v for i, v in enumerate(user_encoder.classes_)}\n",
    "\n",
    "item_ids = list(set(core_train_rating['recipe_id'].unique()) | set(core_test_rating['recipe_id'].unique()) | set(\n",
    "    core_valid_rating['recipe_id'].unique()))\n",
    "item_encoder = LabelEncoder().fit(item_ids)\n",
    "\n",
    "item_to_idx = {v: i for i, v in enumerate(item_encoder.classes_)}\n",
    "idx_to_item = {i: v for i, v in enumerate(item_encoder.classes_)}\n",
    "\n",
    "print(f\"length of user2idx dict: {len(user_to_idx)}\")\n",
    "print(f\"length of item2idx dict: {len(item_to_idx)}\")"
   ],
   "metadata": {
    "collapsed": false,
    "ExecuteTime": {
     "end_time": "2025-08-28T05:25:06.499952Z",
     "start_time": "2025-08-28T05:25:05.508109Z"
    }
   },
   "id": "993f0eb75d62bc59",
   "execution_count": 3
  },
  {
   "cell_type": "code",
   "outputs": [],
   "source": [
    "core_train_rating['u'] = core_train_rating['user_id'].map(user_to_idx)\n",
    "core_train_rating['i'] = core_train_rating['recipe_id'].map(item_to_idx)\n",
    "core_train_rating = core_train_rating.sort_values(by=['u', 'dateLastModified'])\n",
    "\n",
    "core_test_rating['u'] = core_test_rating['user_id'].map(user_to_idx)\n",
    "core_test_rating['i'] = core_test_rating['recipe_id'].map(item_to_idx)\n",
    "core_test_rating = core_test_rating.sort_values(by=['u', 'dateLastModified'])\n",
    "\n",
    "core_valid_rating['u'] = core_valid_rating['user_id'].map(user_to_idx)\n",
    "core_valid_rating['i'] = core_valid_rating['recipe_id'].map(item_to_idx)\n",
    "core_valid_rating = core_valid_rating.sort_values(by=['u', 'dateLastModified'])\n",
    "\n",
    "selected_columns = ['u', 'i', 'rating']\n",
    "save_train = core_train_rating[selected_columns].copy()\n",
    "save_valid = core_valid_rating[selected_columns].copy()\n",
    "save_test = core_test_rating[selected_columns].copy()"
   ],
   "metadata": {
    "collapsed": false,
    "ExecuteTime": {
     "end_time": "2025-08-28T05:25:11.389134Z",
     "start_time": "2025-08-28T05:25:09.124564Z"
    }
   },
   "id": "4d76fd3fab6dc53a",
   "execution_count": 4
  },
  {
   "cell_type": "code",
   "outputs": [
    {
     "name": "stdout",
     "output_type": "stream",
     "text": [
      "train/valid/test data saved\n"
     ]
    }
   ],
   "source": [
    "save_path = '/home/zyx2509/Food_dataset/Allrecipes/processed_dataset/'\n",
    "save_train.to_csv(save_path + 'data.train.rating', sep='\t', header=False, index=False)\n",
    "save_valid.to_csv(save_path + 'data.valid.rating', sep='\t', header=False, index=False)\n",
    "save_test.to_csv(save_path + 'data.test.rating', sep='\t', header=False, index=False)\n",
    "print(\"train/valid/test data saved\")"
   ],
   "metadata": {
    "collapsed": false,
    "ExecuteTime": {
     "end_time": "2025-08-28T05:26:08.906355Z",
     "start_time": "2025-08-28T05:26:07.999869Z"
    }
   },
   "id": "9cd7aa5d1c9ec71a",
   "execution_count": 6
  },
  {
   "cell_type": "code",
   "outputs": [
    {
     "name": "stdout",
     "output_type": "stream",
     "text": [
      "15707 37342 29093\n"
     ]
    }
   ],
   "source": [
    "\n",
    "test_i = save_test['i'].unique()\n",
    "train_i = save_train['i'].unique()\n",
    "\n",
    "cold = set(test_i) - set(train_i)\n",
    "print(len(cold), len(test_i), len(train_i))"
   ],
   "metadata": {
    "collapsed": false,
    "ExecuteTime": {
     "end_time": "2025-08-27T14:55:47.491289Z",
     "start_time": "2025-08-27T14:55:47.466239Z"
    }
   },
   "id": "7bb3e306ada08a39",
   "execution_count": 8
  },
  {
   "cell_type": "code",
   "outputs": [
    {
     "name": "stderr",
     "output_type": "stream",
     "text": [
      "/tmp/ipykernel_542948/4119227735.py:5: SettingWithCopyWarning: \n",
      "A value is trying to be set on a copy of a slice from a DataFrame.\n",
      "Try using .loc[row_indexer,col_indexer] = value instead\n",
      "\n",
      "See the caveats in the documentation: https://pandas.pydata.org/pandas-docs/stable/user_guide/indexing.html#returning-a-view-versus-a-copy\n",
      "  ingre_num_df['i'] = ingre_num_df['recipe_id'].map(item_to_idx)\n",
      "/tmp/ipykernel_542948/4119227735.py:6: SettingWithCopyWarning: \n",
      "A value is trying to be set on a copy of a slice from a DataFrame.\n",
      "Try using .loc[row_indexer,col_indexer] = value instead\n",
      "\n",
      "See the caveats in the documentation: https://pandas.pydata.org/pandas-docs/stable/user_guide/indexing.html#returning-a-view-versus-a-copy\n",
      "  ingre_num_df['ingredient_list'] = ingre_num_df['ingredients'].apply(lambda x: x.split('^'))\n",
      "/tmp/ipykernel_542948/4119227735.py:7: SettingWithCopyWarning: \n",
      "A value is trying to be set on a copy of a slice from a DataFrame.\n",
      "Try using .loc[row_indexer,col_indexer] = value instead\n",
      "\n",
      "See the caveats in the documentation: https://pandas.pydata.org/pandas-docs/stable/user_guide/indexing.html#returning-a-view-versus-a-copy\n",
      "  ingre_num_df['ingredient_list'] = ingre_num_df['ingredient_list'].apply(lambda x: x[:20])\n"
     ]
    },
    {
     "name": "stdout",
     "output_type": "stream",
     "text": [
      "ingre_num\n",
      "7     4898\n",
      "8     4845\n",
      "6     4660\n",
      "9     4543\n",
      "10    4175\n",
      "5     3972\n",
      "11    3380\n",
      "4     2886\n",
      "12    2639\n",
      "13    2041\n",
      "3     1739\n",
      "14    1454\n",
      "15    1033\n",
      "16     826\n",
      "2      713\n",
      "17     567\n",
      "18     379\n",
      "20     357\n",
      "19     255\n",
      "1      207\n",
      "0       61\n",
      "Name: count, dtype: int64\n",
      "19815\n"
     ]
    },
    {
     "name": "stderr",
     "output_type": "stream",
     "text": [
      "45630it [00:01, 31401.92it/s]\n"
     ]
    },
    {
     "name": "stdout",
     "output_type": "stream",
     "text": [
      "19987\n",
      "1 20 8.658470304624151\n",
      "(45630, 20) 19987\n",
      "[[ 1434  9896  9474 ... 19987 19987 19987]\n",
      " [19112  4733  5573 ... 19987 19987 19987]\n",
      " [10605 12562 19724 ... 19987 19987 19987]\n",
      " ...\n",
      " [17493 13506 13740 ... 19987 19987 19987]\n",
      " [ 1944 19290 17461 ... 19987 19987 19987]\n",
      " [16054  2867 13467 ... 19987 19987 19987]] 19987 0\n"
     ]
    },
    {
     "name": "stderr",
     "output_type": "stream",
     "text": [
      "45630it [02:47, 272.69it/s]\n"
     ]
    },
    {
     "name": "stdout",
     "output_type": "stream",
     "text": [
      "395086\n",
      "(395086, 2)\n",
      "NumPy array saved as /home/zyx2509/Food_dataset/Allrecipes/processed_dataset/ri_graph.txt\n"
     ]
    }
   ],
   "source": [
    "\n",
    "from collections import Counter, defaultdict\n",
    "from tqdm import tqdm\n",
    "\n",
    "ingre_num_df = core_recipe[['recipe_id', 'ingredients']]\n",
    "ingre_num_df['i'] = ingre_num_df['recipe_id'].map(item_to_idx)\n",
    "ingre_num_df['ingredient_list'] = ingre_num_df['ingredients'].apply(lambda x: x.split('^'))\n",
    "ingre_num_df['ingredient_list'] = ingre_num_df['ingredient_list'].apply(lambda x: x[:20])\n",
    "ingre_num_df = ingre_num_df.sort_values(by=['i'])\n",
    "train_ingre_df = ingre_num_df[ingre_num_df['i'].isin(train_i)]\n",
    "\n",
    "df_ing_list = train_ingre_df['ingredient_list'].tolist()\n",
    "all_ingre_list = [item for sublist in df_ing_list for item in sublist]\n",
    "frequency_count = Counter(all_ingre_list)\n",
    "filtered_ingre = set([key for key, value in frequency_count.items() if value >= 1])\n",
    "\n",
    "ingre_num_df['ingredient_del'] = ingre_num_df['ingredient_list'].apply(\n",
    "    lambda x: [i for i in x if i in filtered_ingre])\n",
    "ingre_num_df['ingre_num'] = ingre_num_df['ingredient_del'].apply(lambda x: len(x))\n",
    "\n",
    "print(ingre_num_df['ingre_num'].value_counts())\n",
    "print(len(filtered_ingre))\n",
    "\n",
    "new_ingre = []\n",
    "for index, row in tqdm(ingre_num_df.iterrows()):\n",
    "    if row['ingre_num']==0:\n",
    "        new_ingre.extend(row['ingredient_list'])\n",
    "    else:\n",
    "        new_ingre.extend(row['ingredient_del']) \n",
    "\n",
    "final_ingre = set(new_ingre)\n",
    "ingre_num_df['new_ingres'] = ingre_num_df['ingredient_list'].apply(\n",
    "    lambda x: [i for i in x if i in final_ingre])\n",
    "ingre_num_df['new_ingres_num'] = ingre_num_df['new_ingres'].apply(lambda x: len(x))\n",
    "\n",
    "print(len(final_ingre))\n",
    "print(ingre_num_df['new_ingres_num'].min(), ingre_num_df['new_ingres_num'].max(), ingre_num_df['new_ingres_num'].mean())\n",
    "\n",
    "from sklearn.preprocessing import LabelEncoder\n",
    "\n",
    "save_ingre_num = ingre_num_df[['i', 'new_ingres_num']]\n",
    "save_ingre_num.to_csv(save_path + 'data_id_ingre_num_file', sep='\t', header=False, index=False)\n",
    "\n",
    "ingre_ids = list(final_ingre)\n",
    "ingre_encoder = LabelEncoder().fit(ingre_ids)\n",
    "\n",
    "ingre_to_idx = {v: i for i, v in enumerate(ingre_encoder.classes_)}\n",
    "idx_to_ingre = {i: v for i, v in enumerate(ingre_encoder.classes_)}\n",
    "ingre_num_df['ingredient_idx'] = ingre_num_df['new_ingres'].apply(lambda x: [ingre_to_idx[i] for i in x])\n",
    "\n",
    "dict_data = dict(zip(ingre_num_df['i'], ingre_num_df['ingredient_idx'].tolist()))\n",
    "\n",
    "fill_value = len(ingre_ids)\n",
    "ingre_code = np.full((len(dict_data), ingre_num_df['new_ingres_num'].max()), fill_value)\n",
    "\n",
    "for i, (key, value) in enumerate(dict_data.items()):\n",
    "    ingre_code[key, :len(value)] = value\n",
    "\n",
    "# save id ingre_code file\n",
    "# total code num = 33147 \n",
    "np.save(save_path + 'data_ingre_code_file.npy', ingre_code)\n",
    "\n",
    "print(ingre_code.shape, np.max(ingre_code))\n",
    "print(ingre_code, np.max(ingre_code), np.min(ingre_code))\n",
    "ri_list = []\n",
    "for i, sublist in tqdm(enumerate(ingre_code)):\n",
    "    for j in sublist:\n",
    "        if j != np.max(ingre_code):\n",
    "            ri_list.append([i, j])\n",
    "print(len(ri_list))\n",
    "ri_array = np.array(ri_list).astype(np.int_)\n",
    "print(ri_array.shape)\n",
    "\n",
    "ri_path = save_path + 'ri_graph.txt'\n",
    "with open(ri_path, 'w') as f:\n",
    "    np.savetxt(f, ri_array, fmt='%d')\n",
    "print(f\"NumPy array saved as {ri_path}\")"
   ],
   "metadata": {
    "collapsed": false,
    "ExecuteTime": {
     "end_time": "2025-08-27T14:58:37.673058Z",
     "start_time": "2025-08-27T14:55:47.487819Z"
    }
   },
   "id": "71fac46157ab5166",
   "execution_count": 9
  },
  {
   "cell_type": "code",
   "outputs": [
    {
     "name": "stderr",
     "output_type": "stream",
     "text": [
      "100%|████████████████████████████████████████████████████████████████████████████████████████████████████████████████████████████████████████████████████████████████████████████████████████████████████████████████████████████████████████████████████████████████████████████████████████████████████████████████████████████████| 19987/19987 [01:15<00:00, 263.85it/s]"
     ]
    },
    {
     "name": "stdout",
     "output_type": "stream",
     "text": [
      "19987\n"
     ]
    },
    {
     "name": "stderr",
     "output_type": "stream",
     "text": [
      "\n"
     ]
    }
   ],
   "source": [
    "from transformers import T5Tokenizer, T5EncoderModel\n",
    "from tqdm import tqdm\n",
    "import torch\n",
    "\n",
    "# 加载T5模型和tokenizer\n",
    "model_name = '/home/zyx2509/CIKM_code/t5-small'  # 可以选择其他T5变体和大小\n",
    "tokenizer = T5Tokenizer.from_pretrained(model_name)\n",
    "model = T5EncoderModel.from_pretrained(model_name).cuda()\n",
    "\n",
    "# 存储文本向量的列表\n",
    "ingre_text_vectors = {}\n",
    "\n",
    "# 遍历图片文件夹\n",
    "for key, value in tqdm(ingre_to_idx.items()):\n",
    "    inputs = tokenizer(key, return_tensors=\"pt\", padding=True, truncation=True)\n",
    "    inputs = {key: value.cuda() for key, value in inputs.items()}\n",
    "\n",
    "    # 生成表示\n",
    "    with torch.no_grad():\n",
    "        outputs = model(**inputs)\n",
    "    model_output = outputs.last_hidden_state\n",
    "\n",
    "    # 存储特征向量\n",
    "    ingre_text_vectors[value] = torch.mean(model_output, dim=1, keepdim=False).squeeze().detach().cpu().numpy()\n",
    "\n",
    "print(len(ingre_text_vectors))"
   ],
   "metadata": {
    "collapsed": false,
    "ExecuteTime": {
     "end_time": "2025-08-27T15:30:47.143167Z",
     "start_time": "2025-08-27T15:29:28.609023Z"
    }
   },
   "id": "3fafbf8a3368c8b4",
   "execution_count": 14
  },
  {
   "cell_type": "code",
   "outputs": [
    {
     "name": "stderr",
     "output_type": "stream",
     "text": [
      "19987it [00:00, 268959.84it/s]"
     ]
    },
    {
     "name": "stdout",
     "output_type": "stream",
     "text": [
      "(19987, 512)\n"
     ]
    },
    {
     "name": "stderr",
     "output_type": "stream",
     "text": [
      "\n"
     ]
    }
   ],
   "source": [
    "ingre_feature = np.zeros((len(ingre_text_vectors), ingre_text_vectors[0].shape[0]))\n",
    "\n",
    "# 遍历字典，将值填充到数组中\n",
    "for i, (key, value) in tqdm(enumerate(ingre_text_vectors.items())):\n",
    "    ingre_feature[key] = value\n",
    "print(ingre_feature.shape)\n",
    "\n",
    "# 保存数组到.npy文件中\n",
    "np.save(save_path + 'data_ingre_features_t5.npy', ingre_feature)\n"
   ],
   "metadata": {
    "collapsed": false,
    "ExecuteTime": {
     "end_time": "2025-08-27T15:32:28.344961Z",
     "start_time": "2025-08-27T15:32:28.217224Z"
    }
   },
   "id": "db527effa5f2d18b",
   "execution_count": 15
  },
  {
   "cell_type": "code",
   "outputs": [
    {
     "name": "stderr",
     "output_type": "stream",
     "text": [
      "45630it [01:05, 694.95it/s] "
     ]
    },
    {
     "name": "stdout",
     "output_type": "stream",
     "text": [
      "45630\n"
     ]
    },
    {
     "name": "stderr",
     "output_type": "stream",
     "text": [
      "\n"
     ]
    }
   ],
   "source": [
    "import re\n",
    "from collections import defaultdict\n",
    "from tqdm import tqdm\n",
    "\n",
    "texture_df = raw_recipe[raw_recipe['recipe_id'].isin(item_to_idx.keys())]\n",
    "texture_df = texture_df[['recipe_id', 'recipe_name', 'cooking_directions', 'reviews']]\n",
    "\n",
    "texture_df['i'] = texture_df['recipe_id'].map(item_to_idx)\n",
    "texture_df = texture_df.sort_values(by=['i'])\n",
    "\n",
    "title_dict = defaultdict(list)\n",
    "direction_dict = defaultdict(list)\n",
    "review_dict = defaultdict(list)\n",
    "\n",
    "for idx, row in tqdm(texture_df.iterrows()):\n",
    "    recipe_id = row['i']\n",
    "    title_dict[recipe_id] += [row['recipe_name']]\n",
    "    direction = eval(row['cooking_directions'])\n",
    "    sentences = re.split(r'\\n', direction['directions'])\n",
    "\n",
    "    for sentence in sentences:\n",
    "        direction_dict[recipe_id] += [sentence]\n",
    "\n",
    "    reviews = eval(row['reviews'])\n",
    "\n",
    "    for uid, review in reviews.items():\n",
    "        review_dict[recipe_id] += [review['text']]\n",
    "\n",
    "print(len(review_dict))\n"
   ],
   "metadata": {
    "collapsed": false,
    "ExecuteTime": {
     "end_time": "2025-08-27T15:42:43.681256Z",
     "start_time": "2025-08-27T15:41:37.881059Z"
    }
   },
   "id": "50b164964876af4f",
   "execution_count": 17
  },
  {
   "cell_type": "code",
   "outputs": [
    {
     "name": "stderr",
     "output_type": "stream",
     "text": [
      "100%|████████████████████████████████████████████████████████████████████████████████████████████████████████████████████████████████████████████████████████████████████████████████████████████████████████████████████████████████████████████████████████████████████████████████████████████████████████████████████████████████| 45630/45630 [02:49<00:00, 269.99it/s]\n"
     ]
    },
    {
     "name": "stdout",
     "output_type": "stream",
     "text": [
      "45630\n",
      "(45630, 512)\n",
      "save title feature:(45630, 512)\n"
     ]
    }
   ],
   "source": [
    "\n",
    "# 存储文本向量的列表\n",
    "title_vectors = {}\n",
    "\n",
    "# 遍历图片文件夹\n",
    "for key, value in tqdm(title_dict.items()):\n",
    "    inputs = tokenizer(value, return_tensors=\"pt\", padding=True, truncation=True)\n",
    "    inputs = {key: value.cuda() for key, value in inputs.items()}\n",
    "\n",
    "    # 生成表示\n",
    "    with torch.no_grad():\n",
    "        outputs = model(**inputs)\n",
    "    model_output = outputs.last_hidden_state\n",
    "\n",
    "    # 存储特征向量\n",
    "    title_vectors[key] = torch.mean(model_output, dim=1, keepdim=False).squeeze().detach().cpu().numpy()\n",
    "\n",
    "print(len(title_vectors))\n",
    "\n",
    "title_feature = np.zeros((len(title_vectors), title_vectors[0].shape[0]))\n",
    "\n",
    "for i, (key, value) in enumerate(title_vectors.items()):\n",
    "    title_feature[key] = value\n",
    "\n",
    "print(title_feature.shape)\n",
    "np.save(save_path + 'data_title_features_t5.npy', title_feature)\n",
    "print(f\"save title feature:{title_feature.shape}\")"
   ],
   "metadata": {
    "collapsed": false,
    "ExecuteTime": {
     "end_time": "2025-08-27T15:51:11.244992Z",
     "start_time": "2025-08-27T15:48:22.041710Z"
    }
   },
   "id": "709ea75aabbfd7eb",
   "execution_count": 18
  },
  {
   "cell_type": "code",
   "outputs": [
    {
     "name": "stdout",
     "output_type": "stream",
     "text": [
      "(45630, 512)\n"
     ]
    }
   ],
   "source": [
    "\n",
    "text_feature = np.zeros((len(ingre_code), ingre_feature.shape[1]))\n",
    "for i, ingre_list in enumerate(ingre_code):\n",
    "    mask = ingre_list != len(ingre_to_idx)\n",
    "    new_ingre = ingre_list[mask]\n",
    "    ingre_embs = ingre_feature[new_ingre]\n",
    "    ingre_embs = np.concatenate((ingre_embs, np.expand_dims(title_feature[i], axis=0)), axis=0)\n",
    "    text_feature[i] = ingre_embs.mean(0)\n",
    "print(text_feature.shape)\n",
    "np.save(save_path + 'data_text_features_t5.npy', text_feature)"
   ],
   "metadata": {
    "collapsed": false,
    "ExecuteTime": {
     "end_time": "2025-08-27T15:52:01.720576Z",
     "start_time": "2025-08-27T15:52:00.411727Z"
    }
   },
   "id": "b9a931d8df957c50",
   "execution_count": 19
  },
  {
   "cell_type": "code",
   "outputs": [
    {
     "name": "stdout",
     "output_type": "stream",
     "text": [
      "save mapping dict\n",
      "19987 68768 45630\n"
     ]
    }
   ],
   "source": [
    "import pickle\n",
    "\n",
    "filename = save_path + 'mapping_dict.pkl'\n",
    "\n",
    "# 将字典保存到 pkl 文件中\n",
    "with open(filename, 'wb') as f:  # 注意要以二进制写入模式打开文件\n",
    "    pickle.dump((user_to_idx, item_to_idx, ingre_to_idx), f)\n",
    "print(\"save mapping dict\")\n",
    "print(len(ingre_to_idx), len(user_to_idx), len(item_to_idx))"
   ],
   "metadata": {
    "collapsed": false,
    "ExecuteTime": {
     "end_time": "2025-08-27T15:52:24.774441Z",
     "start_time": "2025-08-27T15:52:24.490638Z"
    }
   },
   "id": "7f6a34a26343b050",
   "execution_count": 20
  },
  {
   "cell_type": "code",
   "outputs": [
    {
     "name": "stderr",
     "output_type": "stream",
     "text": [
      "/home/miniconda3/envs/zyx2509/lib/python3.10/site-packages/torchvision/models/_utils.py:208: UserWarning: The parameter 'pretrained' is deprecated since 0.13 and may be removed in the future, please use 'weights' instead.\n",
      "  warnings.warn(\n",
      "/home/miniconda3/envs/zyx2509/lib/python3.10/site-packages/torchvision/models/_utils.py:223: UserWarning: Arguments other than a weight enum or `None` for 'weights' are deprecated since 0.13 and may be removed in the future. The current behavior is equivalent to passing `weights=ResNet50_Weights.IMAGENET1K_V1`. You can also use `weights=ResNet50_Weights.DEFAULT` to get the most up-to-date weights.\n",
      "  warnings.warn(msg)\n"
     ]
    },
    {
     "name": "stdout",
     "output_type": "stream",
     "text": [
      "Downloading: \"https://download.pytorch.org/models/resnet50-0676ba61.pth\" to /home/ubuntu/.cache/torch/hub/checkpoints/resnet50-0676ba61.pth\n"
     ]
    },
    {
     "name": "stderr",
     "output_type": "stream",
     "text": [
      "100%|██████████████████████████████████████████████████████████████████████████████████████████████████████████████████████████████████████████████████████████████████████████████████████████████████████████████████████████████████████████████████████████████████████████████████████████████████████████████████████████████████| 97.8M/97.8M [00:03<00:00, 34.0MB/s]\n",
      "26152it [03:22, 128.27it/s]"
     ]
    },
    {
     "name": "stdout",
     "output_type": "stream",
     "text": [
      "The size of tensor a (4) must match the size of tensor b (3) at non-singleton dimension 0 /home/zyx2509/Food_dataset/Allrecipes/raw_dataset/core-data-images/core-data-images/165987.jpg\n"
     ]
    },
    {
     "name": "stderr",
     "output_type": "stream",
     "text": [
      "34802it [04:30, 123.52it/s]"
     ]
    },
    {
     "name": "stdout",
     "output_type": "stream",
     "text": [
      "The size of tensor a (4) must match the size of tensor b (3) at non-singleton dimension 0 /home/zyx2509/Food_dataset/Allrecipes/raw_dataset/core-data-images/core-data-images/229943.jpg\n"
     ]
    },
    {
     "name": "stderr",
     "output_type": "stream",
     "text": [
      "45630it [06:04, 125.20it/s]"
     ]
    },
    {
     "name": "stdout",
     "output_type": "stream",
     "text": [
      "45630\n"
     ]
    },
    {
     "name": "stderr",
     "output_type": "stream",
     "text": [
      "\n"
     ]
    }
   ],
   "source": [
    "import torch\n",
    "from torchvision import models, transforms\n",
    "from PIL import Image\n",
    "import os\n",
    "\n",
    "# 加载预训练的ResNet-50模型\n",
    "resnet = models.resnet50(pretrained=True)\n",
    "# 将模型设置为评估模式\n",
    "resnet.fc = torch.nn.Identity()\n",
    "resnet.cuda()\n",
    "resnet.eval()\n",
    "\n",
    "# 图片文件夹路径\n",
    "image_folder = file_path + 'core-data-images/core-data-images/'\n",
    "\n",
    "# 数据预处理\n",
    "preprocess = transforms.Compose([\n",
    "    transforms.Resize(256),\n",
    "    transforms.CenterCrop(224),\n",
    "    transforms.ToTensor(),\n",
    "    transforms.Normalize(mean=[0.485, 0.456, 0.406], std=[0.229, 0.224, 0.225]),\n",
    "])\n",
    "\n",
    "# 存储图片向量的列表\n",
    "image_vectors = {}\n",
    "\n",
    "# 遍历图片文件夹\n",
    "num = 0\n",
    "for index, row in tqdm(ingre_num_df.iterrows()):\n",
    "    image_id = row['recipe_id']\n",
    "    image_path = os.path.join(image_folder, f\"{image_id}.jpg\")\n",
    "    # 加载并预处理图片\n",
    "    image = Image.open(image_path)\n",
    "\n",
    "    try:\n",
    "        image = preprocess(image)\n",
    "        # 增加一个维度，以符合模型的输入要求\n",
    "        image = image.unsqueeze(0).cuda()\n",
    "        # 使用模型提取特征\n",
    "        with torch.no_grad():\n",
    "            output = resnet(image)\n",
    "        # 提取特征向量，并转换为numpy数组\n",
    "    except Exception as e:\n",
    "        print(e, image_path)\n",
    "        image = image.convert('RGB')\n",
    "        image = preprocess(image)\n",
    "        # 增加一个维度，以符合模型的输入要求\n",
    "        image = image.unsqueeze(0).cuda()\n",
    "        # 使用模型提取特征\n",
    "        with torch.no_grad():\n",
    "            output = resnet(image)\n",
    "\n",
    "    vector = output.squeeze().detach().cpu().numpy()\n",
    "    # 存储特征向量\n",
    "    image_vectors[image_id] = vector\n",
    "\n",
    "print(len(image_vectors))"
   ],
   "metadata": {
    "collapsed": false,
    "ExecuteTime": {
     "end_time": "2025-08-27T16:01:24.186625Z",
     "start_time": "2025-08-27T15:55:15.918013Z"
    }
   },
   "id": "29c55fe17c56e18",
   "execution_count": 21
  },
  {
   "cell_type": "code",
   "outputs": [
    {
     "name": "stdout",
     "output_type": "stream",
     "text": [
      "(2048,)\n",
      "(45630, 2048)\n"
     ]
    }
   ],
   "source": [
    "convert_image_vectors = {item_to_idx[key]: value for key, value in image_vectors.items()}\n",
    "\n",
    "sorted_convert_image_vectors = dict(sorted(convert_image_vectors.items()))\n",
    "print(sorted_convert_image_vectors[0].shape)\n",
    "\n",
    "image_feature = np.zeros((len(sorted_convert_image_vectors), sorted_convert_image_vectors[0].size))\n",
    "\n",
    "# 遍历字典，将值填充到数组中\n",
    "for i, (key, value) in enumerate(sorted_convert_image_vectors.items()):\n",
    "    image_feature[key] = value\n",
    "\n",
    "print(image_feature.shape)\n",
    "np.save(save_path + 'data_image_features_float.npy', image_feature)"
   ],
   "metadata": {
    "collapsed": false,
    "ExecuteTime": {
     "end_time": "2025-08-27T16:08:57.551384Z",
     "start_time": "2025-08-27T16:08:56.876782Z"
    }
   },
   "id": "abf6bd7b353fb60f",
   "execution_count": 22
  },
  {
   "cell_type": "code",
   "outputs": [
    {
     "name": "stderr",
     "output_type": "stream",
     "text": [
      "676946it [00:16, 40465.10it/s]\n"
     ]
    },
    {
     "name": "stdout",
     "output_type": "stream",
     "text": [
      "29093\n"
     ]
    },
    {
     "name": "stderr",
     "output_type": "stream",
     "text": [
      "100%|████████████████████████████████████████████████████████████████████████████████████████████████████████████████████████████████████████████████████████████████████████████████████████████████████████████████████████████████████████████████████████████████████████████████████████████████████████████████████████████████| 68768/68768 [03:11<00:00, 359.66it/s]\n",
      "100%|████████████████████████████████████████████████████████████████████████████████████████████████████████████████████████████████████████████████████████████████████████████████████████████████████████████████████████████████████████████████████████████████████████████████████████████████████████████████████████████████| 68768/68768 [01:21<00:00, 843.40it/s]\n"
     ]
    }
   ],
   "source": [
    "train_file = save_path + 'data.train.rating'\n",
    "test_file = save_path + 'data.test.rating'\n",
    "valid_file = save_path + 'data.valid.rating'\n",
    "\n",
    "train_df = pd.read_csv(train_file, names=['user', 'item', 'rate'], sep='\\t')\n",
    "test_df = pd.read_csv(test_file, names=['user', 'item', 'rate'], sep='\\t')\n",
    "valid_df = pd.read_csv(valid_file, names=['user', 'item', 'rate'], sep='\\t')\n",
    "\n",
    "from collections import defaultdict\n",
    "from tqdm import tqdm\n",
    "\n",
    "item_count = defaultdict(int)\n",
    "user_items = {}\n",
    "\n",
    "# 遍历 DataFrame 中的每一行\n",
    "for index, row in tqdm(train_df.iterrows()):\n",
    "    # 提取第一列的值作为聚类的键\n",
    "    u = int(row['user'])\n",
    "    # 如果键不存在于字典中，则将其初始化为一个空列表\n",
    "    if u not in user_items:\n",
    "        user_items[u] = []\n",
    "    # 将第二列的值添加到对应键的列表中\n",
    "    user_items[u].append(int(row['item']))\n",
    "    item_count[int(row['item'])] += 1\n",
    "\n",
    "print(len(item_count))\n",
    "\n",
    "all_item = list(item_count.keys())\n",
    "count = list(item_count.values())\n",
    "sum_value = np.sum([x for x in count])\n",
    "popularity = [value / sum_value for value in count]\n",
    "\n",
    "sum_prob = np.sum([x ** 0.7 for x in popularity])\n",
    "probability = [value ** 0.7 / sum_prob for value in popularity]\n",
    "\n",
    "np.random.seed(2024)\n",
    "item_set = list(item_count.keys())\n",
    "test_num = 500\n",
    "sample_type = 'popular bias'\n",
    "test_neg_items = defaultdict()\n",
    "valid_neg_items = defaultdict()\n",
    "valid_user_set = set(valid_df['user'])\n",
    "test_user_set = set(test_df['user'])\n",
    "\n",
    "for user, user_seq in tqdm(user_items.items()):\n",
    "    if user not in test_user_set:\n",
    "        continue\n",
    "    test_samples = []\n",
    "    while len(test_samples) < test_num:\n",
    "        sample_ids = np.random.choice(all_item, 2 * test_num, replace=False, p=probability)\n",
    "        sample_ids_set = set(sample_ids)\n",
    "        user_seq_set = set(user_seq)\n",
    "        result_set = sample_ids_set - user_seq_set\n",
    "        test_samples = list(result_set)\n",
    "    test_samples = test_samples[:test_num]\n",
    "    test_neg_items[user] = test_samples\n",
    "\n",
    "for user, user_seq in tqdm(user_items.items()):\n",
    "    if user not in valid_user_set:\n",
    "        continue\n",
    "    valid_samples = []\n",
    "    while len(valid_samples) < test_num:\n",
    "        sample_ids = np.random.choice(all_item, 2 * test_num, replace=False, p=probability)\n",
    "        sample_ids_set = set(sample_ids)\n",
    "        user_seq_set = set(user_seq)\n",
    "        result_set = sample_ids_set - user_seq_set\n",
    "        valid_samples = list(result_set)\n",
    "    valid_samples = valid_samples[:test_num]\n",
    "    valid_neg_items[user] = valid_samples"
   ],
   "metadata": {
    "collapsed": false,
    "ExecuteTime": {
     "end_time": "2025-08-27T16:15:27.476244Z",
     "start_time": "2025-08-27T16:10:37.745990Z"
    }
   },
   "id": "74293b60baf834d1",
   "execution_count": 24
  },
  {
   "cell_type": "code",
   "outputs": [
    {
     "name": "stderr",
     "output_type": "stream",
     "text": [
      "133459it [00:04, 31977.52it/s]\n",
      "283440it [00:06, 46657.12it/s]\n"
     ]
    },
    {
     "name": "stdout",
     "output_type": "stream",
     "text": [
      "                                            KeyValue\n",
      "0                       0:[17121, 4292, 8417, 31007]\n",
      "1  1:[13687, 9409, 10495, 18825, 33844, 3123, 398...\n",
      "2  2:[8882, 7784, 21682, 21666, 30040, 13348, 375...\n",
      "3                              3:[1203, 1444, 17970]\n",
      "4  4:[35035, 32289, 25895, 20344, 26340, 20173, 3...\n",
      "                                             KeyValue\n",
      "1                                            1:[3914]\n",
      "2   2:[32581, 31299, 7767, 32286, 31378, 5117, 314...\n",
      "3                                    3:[19092, 12027]\n",
      "4   4:[5024, 5696, 25525, 8333, 5803, 4300, 8924, ...\n",
      "10                            10:[31007, 12507, 2607]\n"
     ]
    }
   ],
   "source": [
    "test_pos_dict = {}\n",
    "valid_pos_dict = {}\n",
    "\n",
    "for index, row in tqdm(valid_df.iterrows()):\n",
    "    # 提取第一列的值作为聚类的键\n",
    "    u = int(row['user'])\n",
    "    if u not in valid_pos_dict:\n",
    "        valid_pos_dict[u] = []\n",
    "    valid_pos_dict[u].append(int(row['item']))\n",
    "\n",
    "for index, row in tqdm(test_df.iterrows()):\n",
    "    # 提取第一列的值作为聚类的键\n",
    "    u = int(row['user'])\n",
    "    if u not in test_pos_dict:\n",
    "        test_pos_dict[u] = []\n",
    "    test_pos_dict[u].append(int(row['item']))\n",
    "\n",
    "test_sample_pos = pd.DataFrame({'KeyValue': [f\"{k}:{v}\" for k, v in test_pos_dict.items()]}, index=test_pos_dict.keys())\n",
    "valid_sample_pos = pd.DataFrame({'KeyValue': [f\"{k}:{v}\" for k, v in valid_pos_dict.items()]},\n",
    "                                index=valid_pos_dict.keys())\n",
    "\n",
    "print(test_sample_pos[:5])\n",
    "print(valid_sample_pos[:5])"
   ],
   "metadata": {
    "collapsed": false,
    "ExecuteTime": {
     "end_time": "2025-08-27T16:18:14.791263Z",
     "start_time": "2025-08-27T16:18:04.418470Z"
    }
   },
   "id": "bdbbdcd51227f14e",
   "execution_count": 27
  },
  {
   "cell_type": "code",
   "outputs": [
    {
     "name": "stdout",
     "output_type": "stream",
     "text": [
      "68768\n",
      "29303\n"
     ]
    }
   ],
   "source": [
    "\n",
    "test_sample_neg = pd.DataFrame.from_dict(test_neg_items).transpose()\n",
    "valid_sample_neg = pd.DataFrame.from_dict(valid_neg_items).transpose()\n",
    "\n",
    "print(len(test_sample_neg))\n",
    "print(len(valid_sample_neg))\n"
   ],
   "metadata": {
    "collapsed": false,
    "ExecuteTime": {
     "end_time": "2025-08-27T16:24:47.847644Z",
     "start_time": "2025-08-27T16:23:27.915454Z"
    }
   },
   "id": "32b87aab21413901",
   "execution_count": 33
  },
  {
   "cell_type": "code",
   "outputs": [
    {
     "name": "stdout",
     "output_type": "stream",
     "text": [
      "68768\n",
      "29303\n"
     ]
    }
   ],
   "source": [
    "test_sample_concat = pd.concat([test_sample_pos, test_sample_neg], axis=1)\n",
    "print(len(test_sample_concat))\n",
    "\n",
    "valid_sample_concat = pd.concat([valid_sample_pos, valid_sample_neg], axis=1)\n",
    "print(len(valid_sample_concat))"
   ],
   "metadata": {
    "collapsed": false,
    "ExecuteTime": {
     "end_time": "2025-08-27T16:25:59.503159Z",
     "start_time": "2025-08-27T16:25:59.310595Z"
    }
   },
   "id": "449c4e3469d22638",
   "execution_count": 34
  },
  {
   "cell_type": "code",
   "outputs": [
    {
     "name": "stdout",
     "output_type": "stream",
     "text": [
      "                                            KeyValue      0      1      2  \\\n",
      "0                          (0:17121,4292,8417,31007)   6144      3  16388   \n",
      "1  (1:13687,9409,10495,18825,33844,3123,3981,4132...  16384  18433  16386   \n",
      "2  (2:8882,7784,21682,21666,30040,13348,37579,195...  12288   2049  20482   \n",
      "3                                (3:1203,1444,17970)  18432  14337   6146   \n",
      "4  (4:35035,32289,25895,20344,26340,20173,32105,3...  12290   2051  20484   \n",
      "\n",
      "       3  \n",
      "0  10244  \n",
      "1  28675  \n",
      "2  20483  \n",
      "3  20483  \n",
      "4   6148  \n",
      "                                             KeyValue      0      1      2  \\\n",
      "1                                            (1:3914)      2   6154  28682   \n",
      "2   (2:32581,31299,7767,32286,31378,5117,31418,900...  22528  18432      3   \n",
      "3                                     (3:19092,12027)  20481   6146  24579   \n",
      "4   (4:5024,5696,25525,8333,5803,4300,8924,24105,2...  20484  12293  30728   \n",
      "10                              (10:31007,12507,2607)   4097  16386  12294   \n",
      "\n",
      "        3  \n",
      "1    8203  \n",
      "2   28676  \n",
      "3   20483  \n",
      "4   12300  \n",
      "10   4105  \n"
     ]
    }
   ],
   "source": [
    "test_sample_concat['KeyValue'] = test_sample_concat['KeyValue'].apply(\n",
    "    lambda x: x.replace('[', '').replace(']', '').replace(' ', ''))\n",
    "test_sample_concat['KeyValue'] = test_sample_concat['KeyValue'].apply(lambda x: f\"({x})\")\n",
    "\n",
    "print(test_sample_concat.iloc[:5, :5])\n",
    "\n",
    "valid_sample_concat['KeyValue'] = valid_sample_concat['KeyValue'].apply(\n",
    "    lambda x: x.replace('[', '').replace(']', '').replace(' ', ''))\n",
    "valid_sample_concat['KeyValue'] = valid_sample_concat['KeyValue'].apply(lambda x: f\"({x})\")\n",
    "\n",
    "print(valid_sample_concat.iloc[:5, :5])"
   ],
   "metadata": {
    "collapsed": false,
    "ExecuteTime": {
     "end_time": "2025-08-27T16:26:01.546413Z",
     "start_time": "2025-08-27T16:26:01.458162Z"
    }
   },
   "id": "ac766f2f0d57c0fa",
   "execution_count": 35
  },
  {
   "cell_type": "code",
   "outputs": [],
   "source": [
    "valid_sample_concat.to_csv(save_path + 'data.valid.negative', sep='\t', header=False, index=False)\n",
    "test_sample_concat.to_csv(save_path + 'data.test.negative', sep='\t', header=False, index=False)"
   ],
   "metadata": {
    "collapsed": false,
    "ExecuteTime": {
     "end_time": "2025-08-27T16:26:21.438933Z",
     "start_time": "2025-08-27T16:26:13.252212Z"
    }
   },
   "id": "903a3cf734d44287",
   "execution_count": 36
  },
  {
   "cell_type": "code",
   "outputs": [
    {
     "name": "stdout",
     "output_type": "stream",
     "text": [
      "save training set sparse coo matrix\n"
     ]
    }
   ],
   "source": [
    "from scipy.sparse import coo_matrix\n",
    "\n",
    "src = save_train['u'].values\n",
    "tgt = save_train['i'].values\n",
    "data = np.ones(len(save_train))\n",
    "mat = coo_matrix((data, (src, tgt)), shape=(len(user_to_idx), len(item_to_idx)))\n",
    "\n",
    "# 指定保存到的文件名\n",
    "import pickle\n",
    "\n",
    "filename = save_path + 'inter_coo_matrix.pkl'\n",
    "\n",
    "# 将字典保存到 pkl 文件中\n",
    "with open(filename, 'wb') as f:  # 注意要以二进制写入模式打开文件\n",
    "    pickle.dump(mat, f)\n",
    "print(\"save training set sparse coo matrix\")"
   ],
   "metadata": {
    "collapsed": false,
    "ExecuteTime": {
     "end_time": "2025-08-28T05:26:20.021988Z",
     "start_time": "2025-08-28T05:26:19.953174Z"
    }
   },
   "id": "3e04e764e61e517b",
   "execution_count": 7
  },
  {
   "cell_type": "code",
   "outputs": [
    {
     "name": "stdout",
     "output_type": "stream",
     "text": [
      "(676946, 2)\n",
      "NumPy array saved as /home/zyx2509/Food_dataset/Allrecipes/processed_dataset/graph_edge/ur_graph.txt\n",
      "testing for shape, ur_graph is (676946, 2)\n"
     ]
    }
   ],
   "source": [
    "# now, begin process graph edges\n",
    "# 1 user-recipe graph edge\n",
    "import numpy as np\n",
    "\n",
    "inter_mat = []\n",
    "lines = open(save_path + 'data.train.rating', 'r').readlines()\n",
    "for line in lines:\n",
    "    tokens = line.strip().split('\\t')\n",
    "    u_id, pos_id = int(tokens[0]), int(tokens[1])\n",
    "    inter_mat.append([u_id, pos_id])\n",
    "\n",
    "ur_array = np.array(inter_mat).astype(np.int_)\n",
    "\n",
    "print(ur_array.shape)\n",
    "\n",
    "ur_path = save_path + 'graph_edge/ur_graph.txt'\n",
    "with open(ur_path, 'w') as f:\n",
    "    np.savetxt(f, ur_array, fmt='%d')\n",
    "print(f\"NumPy array saved as {ur_path}\")\n",
    "\n",
    "with open(ur_path, 'r') as f:\n",
    "    ab = np.loadtxt(f, dtype=np.int_)\n",
    "print(f\"testing for shape, ur_graph is {ab.shape}\")"
   ],
   "metadata": {
    "collapsed": false,
    "ExecuteTime": {
     "end_time": "2025-08-27T16:31:03.000710Z",
     "start_time": "2025-08-27T16:31:00.186321Z"
    }
   },
   "id": "1fb8949f653daba1",
   "execution_count": 38
  },
  {
   "cell_type": "code",
   "outputs": [
    {
     "name": "stdout",
     "output_type": "stream",
     "text": [
      "[[ 1434  9896  9474 ... 19987 19987 19987]\n",
      " [19112  4733  5573 ... 19987 19987 19987]\n",
      " [10605 12562 19724 ... 19987 19987 19987]\n",
      " ...\n",
      " [17493 13506 13740 ... 19987 19987 19987]\n",
      " [ 1944 19290 17461 ... 19987 19987 19987]\n",
      " [16054  2867 13467 ... 19987 19987 19987]] 19987 0\n"
     ]
    },
    {
     "name": "stderr",
     "output_type": "stream",
     "text": [
      "45630it [02:55, 259.28it/s]\n"
     ]
    },
    {
     "name": "stdout",
     "output_type": "stream",
     "text": [
      "395086\n",
      "(395086, 2)\n",
      "NumPy array saved as /home/zyx2509/Food_dataset/Allrecipes/processed_dataset/graph_edge/ri_graph.txt\n",
      "testing for shape, ri_graph is (395086, 2)\n"
     ]
    }
   ],
   "source": [
    "# 2 recipe-recipe graph edge \n",
    "# 2 pending\n",
    "# 3 recipe-ingredient graph edge\n",
    "from tqdm import tqdm\n",
    "\n",
    "ingre_code = np.load(save_path + 'data_ingre_code_file.npy')\n",
    "print(ingre_code, np.max(ingre_code), np.min(ingre_code))\n",
    "ri_list = []\n",
    "for i, sublist in tqdm(enumerate(ingre_code)):\n",
    "    for j in sublist:\n",
    "        if j != np.max(ingre_code):\n",
    "            ri_list.append([i, j])\n",
    "print(len(ri_list))\n",
    "ri_array = np.array(ri_list).astype(np.int_)\n",
    "print(ri_array.shape)\n",
    "\n",
    "ri_path = save_path + 'graph_edge/ri_graph.txt'\n",
    "with open(ri_path, 'w') as f:\n",
    "    np.savetxt(f, ri_array, fmt='%d')\n",
    "print(f\"NumPy array saved as {ri_path}\")\n",
    "\n",
    "with open(ri_path, 'r') as f:\n",
    "    ab = np.loadtxt(f, dtype=np.int_)\n",
    "print(f\"testing for shape, ri_graph is {ab.shape}\")"
   ],
   "metadata": {
    "collapsed": false,
    "ExecuteTime": {
     "end_time": "2025-08-27T16:34:56.999071Z",
     "start_time": "2025-08-27T16:32:01.106120Z"
    }
   },
   "id": "9ba33ec1db63c931",
   "execution_count": 39
  },
  {
   "cell_type": "code",
   "outputs": [
    {
     "name": "stdout",
     "output_type": "stream",
     "text": [
      "19987\n"
     ]
    },
    {
     "name": "stderr",
     "output_type": "stream",
     "text": [
      "100%|████████████████████████████████████████████████████████████████████████████████████████████████████████████████████████████████████████████████████████████████████████████████████████████████████████████████████████████████████████████████████████████████████████████████████████████████████████████████████████████| 19987/19987 [00:00<00:00, 1315190.44it/s]\n",
      "100%|█████████████████████████████████████████████████████████████████████████████████████████████████████████████████████████████████████████████████████████████████████████████████████████████████████████████████████████████████████████████████████████████████████████████████████████████████████████████████████████████| 19987/19987 [00:00<00:00, 628154.04it/s]\n",
      "100%|████████████████████████████████████████████████████████████████████████████████████████████████████████████████████████████████████████████████████████████████████████████████████████████████████████████████████████████████████████████████████████████████████████████████████████████████████████████████████████████| 19987/19987 [00:00<00:00, 1094706.83it/s]\n",
      "100%|█████████████████████████████████████████████████████████████████████████████████████████████████████████████████████████████████████████████████████████████████████████████████████████████████████████████████████████████████████████████████████████████████████████████████████████████████████████████████████████████████████████| 5/5 [00:00<00:00,  6.01it/s]\n",
      "100%|█████████████████████████████████████████████████████████████████████████████████████████████████████████████████████████████████████████████████████████████████████████████████████████████████████████████████████████████████████████████████████████████████████████████████████████████████████████████████████████████████████████| 6/6 [00:00<00:00, 10.07it/s]\n",
      "100%|████████████████████████████████████████████████████████████████████████████████████████████████████████████████████████████████████████████████████████████████████████████████████████████████████████████████████████████████████████████████████████████████████████████████████████████████████████████████████████████████████████| 6/6 [00:00<00:00, 244.61it/s]\n"
     ]
    },
    {
     "name": "stdout",
     "output_type": "stream",
     "text": [
      "3205621\n",
      "每个元素出现的次数： Counter({1: 3138051, 2: 67436, 3: 134})\n"
     ]
    },
    {
     "name": "stderr",
     "output_type": "stream",
     "text": [
      "100%|████████████████████████████████████████████████████████████████████████████████████████████████████████████████████████████████████████████████████████████████████████████████████████████████████████████████████████████████████████████████████████████████████████████████████████████████████████████████████████| 3205621/3205621 [00:01<00:00, 3051647.65it/s]\n"
     ]
    },
    {
     "name": "stdout",
     "output_type": "stream",
     "text": [
      "292488\n",
      "[[38, 744], [744, 38], [38, 945], [945, 38], [38, 2107], [2107, 38], [38, 2913], [2913, 38], [38, 4341], [4341, 38]]\n",
      "(292488, 2)\n",
      "NumPy array saved as /home/zyx2509/Food_dataset/Allrecipes/processed_dataset/graph_edge/ii_graph.txt\n",
      "(292488, 2)\n"
     ]
    }
   ],
   "source": [
    "# 4 ingredient-ingredient graph edge\n",
    "# 4 used for fgcn model\n",
    "from collections import Counter\n",
    "\n",
    "mapping_dict = save_path + 'mapping_dict.pkl'\n",
    "\n",
    "with open(mapping_dict, 'rb') as f:\n",
    "    u_to_idx, i_to_idx, ingre_to_idx = pickle.load(f)\n",
    "print(len(ingre_to_idx))\n",
    "\n",
    "color_set = ['white', 'black', 'red', 'green', 'yellow']\n",
    "ingre_with_colors = defaultdict(list)\n",
    "\n",
    "# 遍历字典中的每个值\n",
    "for key, value in tqdm(ingre_to_idx.items()):\n",
    "    # 检查值中是否包含颜色列表中的任何一个颜色\n",
    "    for color in color_set:\n",
    "        if color in key:\n",
    "            # 如果包含颜色，则将对应的键保存到列表中\n",
    "            ingre_with_colors[color].append(value)\n",
    "\n",
    "shape_set = ['slice', 'dice', 'minced', 'powder', 'roll', 'shred']\n",
    "ingre_with_shapes = defaultdict(list)\n",
    "\n",
    "# 遍历字典中的每个值\n",
    "for key, value in tqdm(ingre_to_idx.items()):\n",
    "    # 检查值中是否包含颜色列表中的任何一个颜色\n",
    "    for shape in shape_set:\n",
    "        if shape in key:\n",
    "            # 如果包含颜色，则将对应的键保存到列表中\n",
    "            ingre_with_shapes[shape].append(value)\n",
    "\n",
    "cooking_set = ['deep-fry', 'dry', 'fry', 'steam', 'boil', 'pickle']\n",
    "ingre_with_cookings = defaultdict(list)\n",
    "\n",
    "# 遍历字典中的每个值\n",
    "for key, value in tqdm(ingre_to_idx.items()):\n",
    "    # 检查值中是否包含颜色列表中的任何一个颜色\n",
    "    for cooking in cooking_set:\n",
    "        if cooking in key:\n",
    "            # 如果包含颜色，则将对应的键保存到列表中\n",
    "            ingre_with_cookings[cooking].append(value)\n",
    "\n",
    "edge_dict = defaultdict(int)\n",
    "\n",
    "for key, lst in tqdm(ingre_with_colors.items()):\n",
    "    for i in range(len(lst)):\n",
    "        for j in range(i + 1, len(lst)):\n",
    "            edge_dict[(lst[i], lst[j])] += 1\n",
    "for key, lst in tqdm(ingre_with_shapes.items()):\n",
    "    for i in range(len(lst)):\n",
    "        for j in range(i + 1, len(lst)):\n",
    "            edge_dict[(lst[i], lst[j])] += 1\n",
    "for key, lst in tqdm(ingre_with_cookings.items()):\n",
    "    for i in range(len(lst)):\n",
    "        for j in range(i + 1, len(lst)):\n",
    "            edge_dict[(lst[i], lst[j])] += 1\n",
    "print(len(edge_dict))\n",
    "value_counts = Counter(val for val in edge_dict.values())\n",
    "\n",
    "# 打印结果\n",
    "print(\"每个元素出现的次数：\", value_counts)\n",
    "\n",
    "import random\n",
    "\n",
    "random.seed(2024)\n",
    "\n",
    "new_edge_list = []\n",
    "for edge_pair, count in tqdm(edge_dict.items()):\n",
    "    if count == 1:\n",
    "        random_number = random.random()\n",
    "        if random_number < 0.025:\n",
    "            new_edge_list.append([edge_pair[0], edge_pair[1]])\n",
    "            new_edge_list.append([edge_pair[1], edge_pair[0]])\n",
    "    else:\n",
    "        new_edge_list.append([edge_pair[0], edge_pair[1]])\n",
    "        new_edge_list.append([edge_pair[1], edge_pair[0]])\n",
    "\n",
    "print(len(new_edge_list))\n",
    "print(new_edge_list[:10])\n",
    "\n",
    "ii_array = np.array(new_edge_list).astype(np.int_)\n",
    "\n",
    "print(ii_array.shape)\n",
    "\n",
    "ii_path = save_path + 'graph_edge/ii_graph.txt'\n",
    "with open(ii_path, 'w') as f:\n",
    "    np.savetxt(f, ii_array, fmt='%d')\n",
    "print(f\"NumPy array saved as {ii_path}\")\n",
    "\n",
    "with open(ii_path, 'r') as f:\n",
    "    ab = np.loadtxt(f, dtype=np.int_)\n",
    "print(ab.shape)"
   ],
   "metadata": {
    "collapsed": false,
    "ExecuteTime": {
     "end_time": "2025-08-27T16:41:53.396448Z",
     "start_time": "2025-08-27T16:41:45.736419Z"
    }
   },
   "id": "de31d3b616a20c7a",
   "execution_count": 42
  },
  {
   "cell_type": "code",
   "outputs": [
    {
     "name": "stdout",
     "output_type": "stream",
     "text": [
      "45630\n"
     ]
    },
    {
     "name": "stderr",
     "output_type": "stream",
     "text": [
      "/tmp/ipykernel_542948/4058159597.py:17: SettingWithCopyWarning: \n",
      "A value is trying to be set on a copy of a slice from a DataFrame.\n",
      "Try using .loc[row_indexer,col_indexer] = value instead\n",
      "\n",
      "See the caveats in the documentation: https://pandas.pydata.org/pandas-docs/stable/user_guide/indexing.html#returning-a-view-versus-a-copy\n",
      "  now_recipe['cal'] = now_recipe['nutritions'].apply(lambda x: int(eval(x)[u'calories'][u'amount'] / 30))\n",
      "/tmp/ipykernel_542948/4058159597.py:18: SettingWithCopyWarning: \n",
      "A value is trying to be set on a copy of a slice from a DataFrame.\n",
      "Try using .loc[row_indexer,col_indexer] = value instead\n",
      "\n",
      "See the caveats in the documentation: https://pandas.pydata.org/pandas-docs/stable/user_guide/indexing.html#returning-a-view-versus-a-copy\n",
      "  now_recipe['i'] = now_recipe['recipe_id'].apply(lambda x: item_to_idx[x])\n",
      "/tmp/ipykernel_542948/4058159597.py:25: SettingWithCopyWarning: \n",
      "A value is trying to be set on a copy of a slice from a DataFrame.\n",
      "Try using .loc[row_indexer,col_indexer] = value instead\n",
      "\n",
      "See the caveats in the documentation: https://pandas.pydata.org/pandas-docs/stable/user_guide/indexing.html#returning-a-view-versus-a-copy\n",
      "  now_recipe['cal_norm'] = now_recipe['cal'].apply(lambda x: cal_to_idx[x])\n"
     ]
    },
    {
     "name": "stdout",
     "output_type": "stream",
     "text": [
      "156 0 10.235130396668858\n",
      "80\n",
      "(45630, 2)\n",
      "NumPy array saved as 'rc_graph.txt'\n",
      "testing for shape, rc_graph is (45630, 2)\n",
      "save calories dict\n",
      "save cal_to_idx dict\n"
     ]
    }
   ],
   "source": [
    "# 5 recipe-calories graph edge\n",
    "# 7 calories level dict\n",
    "# 5 and 7 used for schgn model\n",
    "# build calories dict for 5 and 7\n",
    "import pickle\n",
    "import pandas as pd\n",
    "from sklearn.preprocessing import LabelEncoder\n",
    "\n",
    "calories_dict = {}\n",
    "raw_recipe = pd.read_csv(file_path + 'raw-data_recipe.csv')\n",
    "with open(save_path + 'mapping_dict.pkl', 'rb') as f:\n",
    "    _, item_to_idx, _ = pickle.load(f)\n",
    "\n",
    "items = item_to_idx.keys()\n",
    "print(len(items))\n",
    "now_recipe = raw_recipe[raw_recipe['recipe_id'].isin(items)]\n",
    "now_recipe['cal'] = now_recipe['nutritions'].apply(lambda x: int(eval(x)[u'calories'][u'amount'] / 30))\n",
    "now_recipe['i'] = now_recipe['recipe_id'].apply(lambda x: item_to_idx[x])\n",
    "print(now_recipe['cal'].max(), now_recipe['cal'].min(), now_recipe['cal'].mean())\n",
    "\n",
    "cal_encoder = LabelEncoder().fit(list(now_recipe['cal'].unique()))\n",
    "cal_to_idx = {v: i for i, v in enumerate(cal_encoder.classes_)}\n",
    "print(len(cal_to_idx))\n",
    "\n",
    "now_recipe['cal_norm'] = now_recipe['cal'].apply(lambda x: cal_to_idx[x])\n",
    "now_recipe = now_recipe.sort_values(by='i')\n",
    "\n",
    "for index, row in now_recipe.iterrows():\n",
    "    recipe_id = row['i']\n",
    "    calories_amount = row['cal_norm']\n",
    "    calories_dict[recipe_id] = calories_amount\n",
    "# 5 recipe-calories graph edge\n",
    "rc_list = []\n",
    "for key, value in calories_dict.items():\n",
    "    rc_list.append([key, value])\n",
    "rc_array = np.array(rc_list).astype(np.int_)\n",
    "print(rc_array.shape)\n",
    "\n",
    "rc_path = save_path + 'graph_edge/rc_graph.txt'\n",
    "with open(rc_path, 'w') as f:\n",
    "    np.savetxt(f, rc_array, fmt='%d')\n",
    "print(\"NumPy array saved as 'rc_graph.txt'\")\n",
    "\n",
    "with open(rc_path, 'r') as f:\n",
    "    ab = np.loadtxt(f, dtype=np.int_)\n",
    "print(f\"testing for shape, rc_graph is {ab.shape}\")\n",
    "\n",
    "# 7 calories level dict\n",
    "rc_dict = save_path + 'graph_edge/recipe_cal_level_dict.pkl'\n",
    "\n",
    "# 将字典保存到 pkl 文件中\n",
    "with open(rc_dict, 'wb') as f:  # 注意要以二进制写入模式打开文件\n",
    "    pickle.dump(calories_dict, f)\n",
    "print(\"save calories dict\")\n",
    "\n",
    "cal_to_idx_map_file = save_path + 'graph_edge/recipe_cal_level_map.pkl'\n",
    "with open(cal_to_idx_map_file, 'wb') as f:  # 注意要以二进制写入模式打开文件\n",
    "    pickle.dump(cal_to_idx, f)\n",
    "print(\"save cal_to_idx dict\")"
   ],
   "metadata": {
    "collapsed": false,
    "ExecuteTime": {
     "end_time": "2025-08-27T16:44:40.997978Z",
     "start_time": "2025-08-27T16:44:16.062195Z"
    }
   },
   "id": "4f37d813c0aa0705",
   "execution_count": 44
  },
  {
   "cell_type": "code",
   "outputs": [
    {
     "name": "stderr",
     "output_type": "stream",
     "text": [
      "0it [00:00, ?it/s]/tmp/ipykernel_542948/553210186.py:33: SettingWithCopyWarning: \n",
      "A value is trying to be set on a copy of a slice from a DataFrame.\n",
      "Try using .loc[row_indexer,col_indexer] = value instead\n",
      "\n",
      "See the caveats in the documentation: https://pandas.pydata.org/pandas-docs/stable/user_guide/indexing.html#returning-a-view-versus-a-copy\n",
      "  recipe_nutrition.at[idx, 'cal'] = calories_amount\n",
      "/tmp/ipykernel_542948/553210186.py:34: SettingWithCopyWarning: \n",
      "A value is trying to be set on a copy of a slice from a DataFrame.\n",
      "Try using .loc[row_indexer,col_indexer] = value instead\n",
      "\n",
      "See the caveats in the documentation: https://pandas.pydata.org/pandas-docs/stable/user_guide/indexing.html#returning-a-view-versus-a-copy\n",
      "  recipe_nutrition.at[idx, 'fat'] = fat_pdv\n",
      "45630it [02:06, 360.40it/s]\n"
     ]
    },
    {
     "data": {
      "text/plain": "       recipe_id                              recipe_name  \\\n0         240488        Pork Loin, Apples, and Sauerkraut   \n1         218939         Foolproof Rosemary Chicken Wings   \n2          87211                    Chicken Pesto Paninis   \n3         245714                       Potato Bacon Pizza   \n4         218545  Latin-Inspired Spicy Cream Chicken Stew   \n...          ...                                      ...   \n45625     222886                   Grateful Dead Cocktail   \n45626      25650              Cheese Filling For Pastries   \n45627      23544                           Peach Smoothie   \n45628     170710                      Double Dare Peaches   \n45629      79774               All-Purpose Marinara Sauce   \n\n                                              nutritions        cal  fat  \\\n0      {u'niacin': {u'hasCompleteData': False, u'name...  371.72190   18   \n1      {u'niacin': {u'hasCompleteData': True, u'name'...  335.16550   36   \n2      {u'niacin': {u'hasCompleteData': True, u'name'...  640.56170   45   \n3      {u'niacin': {u'hasCompleteData': True, u'name'...  162.66850   12   \n4      {u'niacin': {u'hasCompleteData': False, u'name...  334.00750   12   \n...                                                  ...        ...  ...   \n45625  {u'niacin': {u'hasCompleteData': False, u'name...  403.19880  < 1   \n45626  {u'niacin': {u'hasCompleteData': True, u'name'...  115.52360   14   \n45627  {u'niacin': {u'hasCompleteData': False, u'name...  151.52430    7   \n45628  {u'niacin': {u'hasCompleteData': True, u'name'...  402.52910   33   \n45629  {u'niacin': {u'hasCompleteData': False, u'name...   41.28038    3   \n\n           sugar      sodium protein saturated_fat carbohydrates      fiber  \n0      19.841460  2606.76400      73            18            10  10.223360  \n1       0.236130   762.80500      48            28             2   0.886681  \n2       1.974210  1075.52700      65            55            20   4.441335  \n3       2.452803   189.80880      14            20             5   0.749092  \n4       8.222667  1301.88800      52            19            12   8.019139  \n...          ...         ...     ...           ...           ...        ...  \n45625  18.099000    10.77593     < 1           < 1             6   0.000000  \n45626   5.549170    70.75883       4            27             2   0.097012  \n45627  20.284320    74.95521      10             8             8   2.010828  \n45628  44.335170   183.89440      11            65            16   1.303431  \n45629   3.511238   400.45880       3             1             2   1.442893  \n\n[45630 rows x 11 columns]",
      "text/html": "<div>\n<style scoped>\n    .dataframe tbody tr th:only-of-type {\n        vertical-align: middle;\n    }\n\n    .dataframe tbody tr th {\n        vertical-align: top;\n    }\n\n    .dataframe thead th {\n        text-align: right;\n    }\n</style>\n<table border=\"1\" class=\"dataframe\">\n  <thead>\n    <tr style=\"text-align: right;\">\n      <th></th>\n      <th>recipe_id</th>\n      <th>recipe_name</th>\n      <th>nutritions</th>\n      <th>cal</th>\n      <th>fat</th>\n      <th>sugar</th>\n      <th>sodium</th>\n      <th>protein</th>\n      <th>saturated_fat</th>\n      <th>carbohydrates</th>\n      <th>fiber</th>\n    </tr>\n  </thead>\n  <tbody>\n    <tr>\n      <th>0</th>\n      <td>240488</td>\n      <td>Pork Loin, Apples, and Sauerkraut</td>\n      <td>{u'niacin': {u'hasCompleteData': False, u'name...</td>\n      <td>371.72190</td>\n      <td>18</td>\n      <td>19.841460</td>\n      <td>2606.76400</td>\n      <td>73</td>\n      <td>18</td>\n      <td>10</td>\n      <td>10.223360</td>\n    </tr>\n    <tr>\n      <th>1</th>\n      <td>218939</td>\n      <td>Foolproof Rosemary Chicken Wings</td>\n      <td>{u'niacin': {u'hasCompleteData': True, u'name'...</td>\n      <td>335.16550</td>\n      <td>36</td>\n      <td>0.236130</td>\n      <td>762.80500</td>\n      <td>48</td>\n      <td>28</td>\n      <td>2</td>\n      <td>0.886681</td>\n    </tr>\n    <tr>\n      <th>2</th>\n      <td>87211</td>\n      <td>Chicken Pesto Paninis</td>\n      <td>{u'niacin': {u'hasCompleteData': True, u'name'...</td>\n      <td>640.56170</td>\n      <td>45</td>\n      <td>1.974210</td>\n      <td>1075.52700</td>\n      <td>65</td>\n      <td>55</td>\n      <td>20</td>\n      <td>4.441335</td>\n    </tr>\n    <tr>\n      <th>3</th>\n      <td>245714</td>\n      <td>Potato Bacon Pizza</td>\n      <td>{u'niacin': {u'hasCompleteData': True, u'name'...</td>\n      <td>162.66850</td>\n      <td>12</td>\n      <td>2.452803</td>\n      <td>189.80880</td>\n      <td>14</td>\n      <td>20</td>\n      <td>5</td>\n      <td>0.749092</td>\n    </tr>\n    <tr>\n      <th>4</th>\n      <td>218545</td>\n      <td>Latin-Inspired Spicy Cream Chicken Stew</td>\n      <td>{u'niacin': {u'hasCompleteData': False, u'name...</td>\n      <td>334.00750</td>\n      <td>12</td>\n      <td>8.222667</td>\n      <td>1301.88800</td>\n      <td>52</td>\n      <td>19</td>\n      <td>12</td>\n      <td>8.019139</td>\n    </tr>\n    <tr>\n      <th>...</th>\n      <td>...</td>\n      <td>...</td>\n      <td>...</td>\n      <td>...</td>\n      <td>...</td>\n      <td>...</td>\n      <td>...</td>\n      <td>...</td>\n      <td>...</td>\n      <td>...</td>\n      <td>...</td>\n    </tr>\n    <tr>\n      <th>45625</th>\n      <td>222886</td>\n      <td>Grateful Dead Cocktail</td>\n      <td>{u'niacin': {u'hasCompleteData': False, u'name...</td>\n      <td>403.19880</td>\n      <td>&lt; 1</td>\n      <td>18.099000</td>\n      <td>10.77593</td>\n      <td>&lt; 1</td>\n      <td>&lt; 1</td>\n      <td>6</td>\n      <td>0.000000</td>\n    </tr>\n    <tr>\n      <th>45626</th>\n      <td>25650</td>\n      <td>Cheese Filling For Pastries</td>\n      <td>{u'niacin': {u'hasCompleteData': True, u'name'...</td>\n      <td>115.52360</td>\n      <td>14</td>\n      <td>5.549170</td>\n      <td>70.75883</td>\n      <td>4</td>\n      <td>27</td>\n      <td>2</td>\n      <td>0.097012</td>\n    </tr>\n    <tr>\n      <th>45627</th>\n      <td>23544</td>\n      <td>Peach Smoothie</td>\n      <td>{u'niacin': {u'hasCompleteData': False, u'name...</td>\n      <td>151.52430</td>\n      <td>7</td>\n      <td>20.284320</td>\n      <td>74.95521</td>\n      <td>10</td>\n      <td>8</td>\n      <td>8</td>\n      <td>2.010828</td>\n    </tr>\n    <tr>\n      <th>45628</th>\n      <td>170710</td>\n      <td>Double Dare Peaches</td>\n      <td>{u'niacin': {u'hasCompleteData': True, u'name'...</td>\n      <td>402.52910</td>\n      <td>33</td>\n      <td>44.335170</td>\n      <td>183.89440</td>\n      <td>11</td>\n      <td>65</td>\n      <td>16</td>\n      <td>1.303431</td>\n    </tr>\n    <tr>\n      <th>45629</th>\n      <td>79774</td>\n      <td>All-Purpose Marinara Sauce</td>\n      <td>{u'niacin': {u'hasCompleteData': False, u'name...</td>\n      <td>41.28038</td>\n      <td>3</td>\n      <td>3.511238</td>\n      <td>400.45880</td>\n      <td>3</td>\n      <td>1</td>\n      <td>2</td>\n      <td>1.442893</td>\n    </tr>\n  </tbody>\n</table>\n<p>45630 rows × 11 columns</p>\n</div>"
     },
     "execution_count": 45,
     "metadata": {},
     "output_type": "execute_result"
    }
   ],
   "source": [
    "# begin to calculate health level\n",
    "import pandas as pd\n",
    "import pickle\n",
    "from tqdm import tqdm\n",
    "\n",
    "# 将字典保存到 pkl 文件中\n",
    "raw_recipe = pd.read_csv(file_path + 'core-data_recipe.csv')\n",
    "with open(save_path + 'mapping_dict.pkl', 'rb') as f:\n",
    "    _, item_to_idx, _ = pickle.load(f)\n",
    "dataset_recipe = raw_recipe[raw_recipe['recipe_id'].isin(list(item_to_idx.keys()))]\n",
    "recipe_nutrition = dataset_recipe[['recipe_id', 'recipe_name', 'nutritions']]\n",
    "\n",
    "\n",
    "def extract_num(text):\n",
    "    print(text)\n",
    "    numbers = re.findall(r'\\d+', text)\n",
    "    # 如果有多个数字，将它们连接成一个字符串\n",
    "    result = ''.join(numbers)\n",
    "    # 将字符串转换为整数\n",
    "    result_int = int(result)\n",
    "    return result_int\n",
    "\n",
    "\n",
    "for idx, row in tqdm(recipe_nutrition.iterrows()):\n",
    "    calories_amount = eval(row['nutritions'])[u'calories'][u'amount']\n",
    "    fat_pdv = eval(row['nutritions'])[u'fat'][u'percentDailyValue']\n",
    "    sugar_pdv = eval(row['nutritions'])[u'sugars'][u'amount']\n",
    "    sodium_pdv = eval(row['nutritions'])[u'sodium'][u'amount']\n",
    "    protein_pdv = eval(row['nutritions'])[u'protein'][u'percentDailyValue']\n",
    "    saturated_fat_pdv = eval(row['nutritions'])[u'saturatedFat'][u'percentDailyValue']\n",
    "    carbohydrates_pdv = eval(row['nutritions'])[u'carbohydrates'][u'percentDailyValue']\n",
    "    fiber = eval(row['nutritions'])[u'fiber'][u'amount']\n",
    "    recipe_nutrition.at[idx, 'cal'] = calories_amount\n",
    "    recipe_nutrition.at[idx, 'fat'] = fat_pdv\n",
    "    recipe_nutrition.at[idx, 'sugar'] = sugar_pdv\n",
    "    recipe_nutrition.at[idx, 'sodium'] = sodium_pdv\n",
    "    recipe_nutrition.at[idx, 'protein'] = protein_pdv\n",
    "    recipe_nutrition.at[idx, 'saturated_fat'] = saturated_fat_pdv\n",
    "    recipe_nutrition.at[idx, 'carbohydrates'] = carbohydrates_pdv\n",
    "    recipe_nutrition.at[idx, 'fiber'] = fiber\n",
    "\n",
    "recipe_nutrition"
   ],
   "metadata": {
    "collapsed": false,
    "ExecuteTime": {
     "end_time": "2025-08-27T16:49:50.391633Z",
     "start_time": "2025-08-27T16:47:42.286067Z"
    }
   },
   "id": "51f8e036101737db",
   "execution_count": 45
  },
  {
   "cell_type": "code",
   "outputs": [
    {
     "data": {
      "text/plain": "       recipe_id                              recipe_name  \\\n0         240488        Pork Loin, Apples, and Sauerkraut   \n1         218939         Foolproof Rosemary Chicken Wings   \n2          87211                    Chicken Pesto Paninis   \n3         245714                       Potato Bacon Pizza   \n4         218545  Latin-Inspired Spicy Cream Chicken Stew   \n...          ...                                      ...   \n45625     222886                   Grateful Dead Cocktail   \n45626      25650              Cheese Filling For Pastries   \n45627      23544                           Peach Smoothie   \n45628     170710                      Double Dare Peaches   \n45629      79774               All-Purpose Marinara Sauce   \n\n                                              nutritions        cal  fat  \\\n0      {u'niacin': {u'hasCompleteData': False, u'name...  371.72190   18   \n1      {u'niacin': {u'hasCompleteData': True, u'name'...  335.16550   36   \n2      {u'niacin': {u'hasCompleteData': True, u'name'...  640.56170   45   \n3      {u'niacin': {u'hasCompleteData': True, u'name'...  162.66850   12   \n4      {u'niacin': {u'hasCompleteData': False, u'name...  334.00750   12   \n...                                                  ...        ...  ...   \n45625  {u'niacin': {u'hasCompleteData': False, u'name...  403.19880    0   \n45626  {u'niacin': {u'hasCompleteData': True, u'name'...  115.52360   14   \n45627  {u'niacin': {u'hasCompleteData': False, u'name...  151.52430    7   \n45628  {u'niacin': {u'hasCompleteData': True, u'name'...  402.52910   33   \n45629  {u'niacin': {u'hasCompleteData': False, u'name...   41.28038    3   \n\n           sugar      sodium  protein  saturated_fat  carbohydrates      fiber  \n0      19.841460  2606.76400       73             18             10  10.223360  \n1       0.236130   762.80500       48             28              2   0.886681  \n2       1.974210  1075.52700       65             55             20   4.441335  \n3       2.452803   189.80880       14             20              5   0.749092  \n4       8.222667  1301.88800       52             19             12   8.019139  \n...          ...         ...      ...            ...            ...        ...  \n45625  18.099000    10.77593        0              0              6   0.000000  \n45626   5.549170    70.75883        4             27              2   0.097012  \n45627  20.284320    74.95521       10              8              8   2.010828  \n45628  44.335170   183.89440       11             65             16   1.303431  \n45629   3.511238   400.45880        3              1              2   1.442893  \n\n[45630 rows x 11 columns]",
      "text/html": "<div>\n<style scoped>\n    .dataframe tbody tr th:only-of-type {\n        vertical-align: middle;\n    }\n\n    .dataframe tbody tr th {\n        vertical-align: top;\n    }\n\n    .dataframe thead th {\n        text-align: right;\n    }\n</style>\n<table border=\"1\" class=\"dataframe\">\n  <thead>\n    <tr style=\"text-align: right;\">\n      <th></th>\n      <th>recipe_id</th>\n      <th>recipe_name</th>\n      <th>nutritions</th>\n      <th>cal</th>\n      <th>fat</th>\n      <th>sugar</th>\n      <th>sodium</th>\n      <th>protein</th>\n      <th>saturated_fat</th>\n      <th>carbohydrates</th>\n      <th>fiber</th>\n    </tr>\n  </thead>\n  <tbody>\n    <tr>\n      <th>0</th>\n      <td>240488</td>\n      <td>Pork Loin, Apples, and Sauerkraut</td>\n      <td>{u'niacin': {u'hasCompleteData': False, u'name...</td>\n      <td>371.72190</td>\n      <td>18</td>\n      <td>19.841460</td>\n      <td>2606.76400</td>\n      <td>73</td>\n      <td>18</td>\n      <td>10</td>\n      <td>10.223360</td>\n    </tr>\n    <tr>\n      <th>1</th>\n      <td>218939</td>\n      <td>Foolproof Rosemary Chicken Wings</td>\n      <td>{u'niacin': {u'hasCompleteData': True, u'name'...</td>\n      <td>335.16550</td>\n      <td>36</td>\n      <td>0.236130</td>\n      <td>762.80500</td>\n      <td>48</td>\n      <td>28</td>\n      <td>2</td>\n      <td>0.886681</td>\n    </tr>\n    <tr>\n      <th>2</th>\n      <td>87211</td>\n      <td>Chicken Pesto Paninis</td>\n      <td>{u'niacin': {u'hasCompleteData': True, u'name'...</td>\n      <td>640.56170</td>\n      <td>45</td>\n      <td>1.974210</td>\n      <td>1075.52700</td>\n      <td>65</td>\n      <td>55</td>\n      <td>20</td>\n      <td>4.441335</td>\n    </tr>\n    <tr>\n      <th>3</th>\n      <td>245714</td>\n      <td>Potato Bacon Pizza</td>\n      <td>{u'niacin': {u'hasCompleteData': True, u'name'...</td>\n      <td>162.66850</td>\n      <td>12</td>\n      <td>2.452803</td>\n      <td>189.80880</td>\n      <td>14</td>\n      <td>20</td>\n      <td>5</td>\n      <td>0.749092</td>\n    </tr>\n    <tr>\n      <th>4</th>\n      <td>218545</td>\n      <td>Latin-Inspired Spicy Cream Chicken Stew</td>\n      <td>{u'niacin': {u'hasCompleteData': False, u'name...</td>\n      <td>334.00750</td>\n      <td>12</td>\n      <td>8.222667</td>\n      <td>1301.88800</td>\n      <td>52</td>\n      <td>19</td>\n      <td>12</td>\n      <td>8.019139</td>\n    </tr>\n    <tr>\n      <th>...</th>\n      <td>...</td>\n      <td>...</td>\n      <td>...</td>\n      <td>...</td>\n      <td>...</td>\n      <td>...</td>\n      <td>...</td>\n      <td>...</td>\n      <td>...</td>\n      <td>...</td>\n      <td>...</td>\n    </tr>\n    <tr>\n      <th>45625</th>\n      <td>222886</td>\n      <td>Grateful Dead Cocktail</td>\n      <td>{u'niacin': {u'hasCompleteData': False, u'name...</td>\n      <td>403.19880</td>\n      <td>0</td>\n      <td>18.099000</td>\n      <td>10.77593</td>\n      <td>0</td>\n      <td>0</td>\n      <td>6</td>\n      <td>0.000000</td>\n    </tr>\n    <tr>\n      <th>45626</th>\n      <td>25650</td>\n      <td>Cheese Filling For Pastries</td>\n      <td>{u'niacin': {u'hasCompleteData': True, u'name'...</td>\n      <td>115.52360</td>\n      <td>14</td>\n      <td>5.549170</td>\n      <td>70.75883</td>\n      <td>4</td>\n      <td>27</td>\n      <td>2</td>\n      <td>0.097012</td>\n    </tr>\n    <tr>\n      <th>45627</th>\n      <td>23544</td>\n      <td>Peach Smoothie</td>\n      <td>{u'niacin': {u'hasCompleteData': False, u'name...</td>\n      <td>151.52430</td>\n      <td>7</td>\n      <td>20.284320</td>\n      <td>74.95521</td>\n      <td>10</td>\n      <td>8</td>\n      <td>8</td>\n      <td>2.010828</td>\n    </tr>\n    <tr>\n      <th>45628</th>\n      <td>170710</td>\n      <td>Double Dare Peaches</td>\n      <td>{u'niacin': {u'hasCompleteData': True, u'name'...</td>\n      <td>402.52910</td>\n      <td>33</td>\n      <td>44.335170</td>\n      <td>183.89440</td>\n      <td>11</td>\n      <td>65</td>\n      <td>16</td>\n      <td>1.303431</td>\n    </tr>\n    <tr>\n      <th>45629</th>\n      <td>79774</td>\n      <td>All-Purpose Marinara Sauce</td>\n      <td>{u'niacin': {u'hasCompleteData': False, u'name...</td>\n      <td>41.28038</td>\n      <td>3</td>\n      <td>3.511238</td>\n      <td>400.45880</td>\n      <td>3</td>\n      <td>1</td>\n      <td>2</td>\n      <td>1.442893</td>\n    </tr>\n  </tbody>\n</table>\n<p>45630 rows × 11 columns</p>\n</div>"
     },
     "execution_count": 46,
     "metadata": {},
     "output_type": "execute_result"
    }
   ],
   "source": [
    "recipe_nutrition['fat'] = recipe_nutrition['fat'].replace('< 1', '0')\n",
    "recipe_nutrition['fat'] = recipe_nutrition['fat'].fillna(int(recipe_nutrition['fat'].median()))\n",
    "recipe_nutrition['fat'] = recipe_nutrition['fat'].astype(int)\n",
    "recipe_nutrition['protein'] = recipe_nutrition['protein'].replace('< 1', '0')\n",
    "recipe_nutrition['protein'] = recipe_nutrition['protein'].fillna(int(recipe_nutrition['protein'].median()))\n",
    "recipe_nutrition['protein'] = recipe_nutrition['protein'].astype(int)\n",
    "recipe_nutrition['saturated_fat'] = recipe_nutrition['saturated_fat'].replace('< 1', '0')\n",
    "recipe_nutrition['saturated_fat'] = recipe_nutrition['saturated_fat'].fillna(\n",
    "    int(recipe_nutrition['saturated_fat'].median()))\n",
    "recipe_nutrition['saturated_fat'] = recipe_nutrition['saturated_fat'].astype(int)\n",
    "recipe_nutrition['carbohydrates'] = recipe_nutrition['carbohydrates'].replace('< 1', '0')\n",
    "recipe_nutrition['carbohydrates'] = recipe_nutrition['carbohydrates'].fillna(\n",
    "    int(recipe_nutrition['carbohydrates'].median()))\n",
    "recipe_nutrition['carbohydrates'] = recipe_nutrition['carbohydrates'].astype(int)\n",
    "recipe_nutrition"
   ],
   "metadata": {
    "collapsed": false,
    "ExecuteTime": {
     "end_time": "2025-08-27T16:53:03.932946Z",
     "start_time": "2025-08-27T16:53:03.842262Z"
    }
   },
   "id": "f7bb6e25c7ef8907",
   "execution_count": 46
  },
  {
   "cell_type": "code",
   "outputs": [
    {
     "name": "stdout",
     "output_type": "stream",
     "text": [
      "nut\n",
      "[0, 0, 1, 0, 0, 0, 0]    8642\n",
      "[0, 1, 1, 0, 0, 0, 0]    7334\n",
      "[1, 0, 1, 0, 0, 0, 0]    6068\n",
      "[1, 1, 1, 0, 0, 0, 0]    5468\n",
      "[0, 0, 1, 0, 1, 0, 0]    4823\n",
      "                         ... \n",
      "[0, 0, 0, 0, 1, 1, 1]       1\n",
      "[0, 0, 1, 0, 0, 1, 1]       1\n",
      "[1, 1, 0, 1, 0, 0, 0]       1\n",
      "[1, 0, 0, 1, 0, 0, 0]       1\n",
      "[1, 0, 1, 0, 0, 1, 1]       1\n",
      "Name: count, Length: 64, dtype: int64\n",
      "save health dict\n"
     ]
    },
    {
     "data": {
      "text/plain": "       recipe_id                                        recipe_name  \\\n0           6663                               Crispy Cheese Twists   \n1           6664  Basil, Roasted Peppers and Monterey Jack Cornb...   \n2           6665                                  Mom's Yeast Rolls   \n3           6666                               Sweet Potato Bread I   \n4           6667                                     Cornish Splits   \n...          ...                                                ...   \n45625     262602                             Quick Mushroom Ceviche   \n45626     262646                 Easy Instant Pot® Spaghetti Squash   \n45627     262797                             Easy Pineapple Chicken   \n45628     262815                            Russian Beef Stroganoff   \n45629     262850                                   Peppercorn Steak   \n\n                                              nutritions       cal  fat  \\\n0      {u'niacin': {u'hasCompleteData': True, u'name'...  120.7066   13   \n1      {u'niacin': {u'hasCompleteData': False, u'name...  313.8263   24   \n2      {u'niacin': {u'hasCompleteData': True, u'name'...  104.0672    5   \n3      {u'vitaminC': {u'hasCompleteData': False, u'na...  303.3300   21   \n4      {u'niacin': {u'hasCompleteData': True, u'name'...  197.9225    6   \n...                                                  ...       ...  ...   \n45625  {u'niacin': {u'hasCompleteData': True, u'name'...  170.5983   16   \n45626  {u'niacin': {u'hasCompleteData': False, u'name...  113.2842    3   \n45627  {u'niacin': {u'hasCompleteData': True, u'name'...  307.3315   20   \n45628  {u'niacin': {u'hasCompleteData': True, u'name'...  235.1897   23   \n45629  {u'niacin': {u'hasCompleteData': True, u'name'...  551.5228   54   \n\n           sugar      sodium  protein  saturated_fat  carbohydrates     fiber  \\\n0       0.190441    78.67492        5             11              3  0.329367   \n1       7.169690   623.72670       20             42             11  2.394961   \n2       1.951010   163.35680        5              3              5  0.597292   \n3      26.388880   171.38830        7              9             14  1.555075   \n4       2.975532    97.72266       11             11             11  1.218333   \n...          ...         ...      ...            ...            ...       ...   \n45625   8.305567   739.02870        9              7              7  8.519067   \n45626   0.750000  1044.98600        5              2              8  0.274675   \n45627  14.878050   782.94740       52             11              7  2.953104   \n45628   0.516253   115.68080       41             23              1  0.271827   \n45629   0.829528   165.07310       63             62              2  1.474026   \n\n           i  n1  n2  n3  n4  n5  n6  n7                    nut  \n0          0   0   1   1   0   0   0   0  [0, 1, 1, 0, 0, 0, 0]  \n1          1   1   0   1   0   0   0   0  [1, 0, 1, 0, 0, 0, 0]  \n2          2   0   1   1   0   1   0   0  [0, 1, 1, 0, 1, 0, 0]  \n3          3   1   0   1   0   1   0   0  [1, 0, 1, 0, 1, 0, 0]  \n4          4   0   1   1   1   0   0   0  [0, 1, 1, 1, 0, 0, 0]  \n...      ...  ..  ..  ..  ..  ..  ..  ..                    ...  \n45625  45625   1   0   1   0   1   0   0  [1, 0, 1, 0, 1, 0, 0]  \n45626  45626   0   1   1   0   1   0   0  [0, 1, 1, 0, 1, 0, 0]  \n45627  45627   1   0   1   0   0   0   0  [1, 0, 1, 0, 0, 0, 0]  \n45628  45628   1   1   1   0   0   0   0  [1, 1, 1, 0, 0, 0, 0]  \n45629  45629   0   1   1   0   0   0   0  [0, 1, 1, 0, 0, 0, 0]  \n\n[45630 rows x 20 columns]",
      "text/html": "<div>\n<style scoped>\n    .dataframe tbody tr th:only-of-type {\n        vertical-align: middle;\n    }\n\n    .dataframe tbody tr th {\n        vertical-align: top;\n    }\n\n    .dataframe thead th {\n        text-align: right;\n    }\n</style>\n<table border=\"1\" class=\"dataframe\">\n  <thead>\n    <tr style=\"text-align: right;\">\n      <th></th>\n      <th>recipe_id</th>\n      <th>recipe_name</th>\n      <th>nutritions</th>\n      <th>cal</th>\n      <th>fat</th>\n      <th>sugar</th>\n      <th>sodium</th>\n      <th>protein</th>\n      <th>saturated_fat</th>\n      <th>carbohydrates</th>\n      <th>fiber</th>\n      <th>i</th>\n      <th>n1</th>\n      <th>n2</th>\n      <th>n3</th>\n      <th>n4</th>\n      <th>n5</th>\n      <th>n6</th>\n      <th>n7</th>\n      <th>nut</th>\n    </tr>\n  </thead>\n  <tbody>\n    <tr>\n      <th>0</th>\n      <td>6663</td>\n      <td>Crispy Cheese Twists</td>\n      <td>{u'niacin': {u'hasCompleteData': True, u'name'...</td>\n      <td>120.7066</td>\n      <td>13</td>\n      <td>0.190441</td>\n      <td>78.67492</td>\n      <td>5</td>\n      <td>11</td>\n      <td>3</td>\n      <td>0.329367</td>\n      <td>0</td>\n      <td>0</td>\n      <td>1</td>\n      <td>1</td>\n      <td>0</td>\n      <td>0</td>\n      <td>0</td>\n      <td>0</td>\n      <td>[0, 1, 1, 0, 0, 0, 0]</td>\n    </tr>\n    <tr>\n      <th>1</th>\n      <td>6664</td>\n      <td>Basil, Roasted Peppers and Monterey Jack Cornb...</td>\n      <td>{u'niacin': {u'hasCompleteData': False, u'name...</td>\n      <td>313.8263</td>\n      <td>24</td>\n      <td>7.169690</td>\n      <td>623.72670</td>\n      <td>20</td>\n      <td>42</td>\n      <td>11</td>\n      <td>2.394961</td>\n      <td>1</td>\n      <td>1</td>\n      <td>0</td>\n      <td>1</td>\n      <td>0</td>\n      <td>0</td>\n      <td>0</td>\n      <td>0</td>\n      <td>[1, 0, 1, 0, 0, 0, 0]</td>\n    </tr>\n    <tr>\n      <th>2</th>\n      <td>6665</td>\n      <td>Mom's Yeast Rolls</td>\n      <td>{u'niacin': {u'hasCompleteData': True, u'name'...</td>\n      <td>104.0672</td>\n      <td>5</td>\n      <td>1.951010</td>\n      <td>163.35680</td>\n      <td>5</td>\n      <td>3</td>\n      <td>5</td>\n      <td>0.597292</td>\n      <td>2</td>\n      <td>0</td>\n      <td>1</td>\n      <td>1</td>\n      <td>0</td>\n      <td>1</td>\n      <td>0</td>\n      <td>0</td>\n      <td>[0, 1, 1, 0, 1, 0, 0]</td>\n    </tr>\n    <tr>\n      <th>3</th>\n      <td>6666</td>\n      <td>Sweet Potato Bread I</td>\n      <td>{u'vitaminC': {u'hasCompleteData': False, u'na...</td>\n      <td>303.3300</td>\n      <td>21</td>\n      <td>26.388880</td>\n      <td>171.38830</td>\n      <td>7</td>\n      <td>9</td>\n      <td>14</td>\n      <td>1.555075</td>\n      <td>3</td>\n      <td>1</td>\n      <td>0</td>\n      <td>1</td>\n      <td>0</td>\n      <td>1</td>\n      <td>0</td>\n      <td>0</td>\n      <td>[1, 0, 1, 0, 1, 0, 0]</td>\n    </tr>\n    <tr>\n      <th>4</th>\n      <td>6667</td>\n      <td>Cornish Splits</td>\n      <td>{u'niacin': {u'hasCompleteData': True, u'name'...</td>\n      <td>197.9225</td>\n      <td>6</td>\n      <td>2.975532</td>\n      <td>97.72266</td>\n      <td>11</td>\n      <td>11</td>\n      <td>11</td>\n      <td>1.218333</td>\n      <td>4</td>\n      <td>0</td>\n      <td>1</td>\n      <td>1</td>\n      <td>1</td>\n      <td>0</td>\n      <td>0</td>\n      <td>0</td>\n      <td>[0, 1, 1, 1, 0, 0, 0]</td>\n    </tr>\n    <tr>\n      <th>...</th>\n      <td>...</td>\n      <td>...</td>\n      <td>...</td>\n      <td>...</td>\n      <td>...</td>\n      <td>...</td>\n      <td>...</td>\n      <td>...</td>\n      <td>...</td>\n      <td>...</td>\n      <td>...</td>\n      <td>...</td>\n      <td>...</td>\n      <td>...</td>\n      <td>...</td>\n      <td>...</td>\n      <td>...</td>\n      <td>...</td>\n      <td>...</td>\n      <td>...</td>\n    </tr>\n    <tr>\n      <th>45625</th>\n      <td>262602</td>\n      <td>Quick Mushroom Ceviche</td>\n      <td>{u'niacin': {u'hasCompleteData': True, u'name'...</td>\n      <td>170.5983</td>\n      <td>16</td>\n      <td>8.305567</td>\n      <td>739.02870</td>\n      <td>9</td>\n      <td>7</td>\n      <td>7</td>\n      <td>8.519067</td>\n      <td>45625</td>\n      <td>1</td>\n      <td>0</td>\n      <td>1</td>\n      <td>0</td>\n      <td>1</td>\n      <td>0</td>\n      <td>0</td>\n      <td>[1, 0, 1, 0, 1, 0, 0]</td>\n    </tr>\n    <tr>\n      <th>45626</th>\n      <td>262646</td>\n      <td>Easy Instant Pot® Spaghetti Squash</td>\n      <td>{u'niacin': {u'hasCompleteData': False, u'name...</td>\n      <td>113.2842</td>\n      <td>3</td>\n      <td>0.750000</td>\n      <td>1044.98600</td>\n      <td>5</td>\n      <td>2</td>\n      <td>8</td>\n      <td>0.274675</td>\n      <td>45626</td>\n      <td>0</td>\n      <td>1</td>\n      <td>1</td>\n      <td>0</td>\n      <td>1</td>\n      <td>0</td>\n      <td>0</td>\n      <td>[0, 1, 1, 0, 1, 0, 0]</td>\n    </tr>\n    <tr>\n      <th>45627</th>\n      <td>262797</td>\n      <td>Easy Pineapple Chicken</td>\n      <td>{u'niacin': {u'hasCompleteData': True, u'name'...</td>\n      <td>307.3315</td>\n      <td>20</td>\n      <td>14.878050</td>\n      <td>782.94740</td>\n      <td>52</td>\n      <td>11</td>\n      <td>7</td>\n      <td>2.953104</td>\n      <td>45627</td>\n      <td>1</td>\n      <td>0</td>\n      <td>1</td>\n      <td>0</td>\n      <td>0</td>\n      <td>0</td>\n      <td>0</td>\n      <td>[1, 0, 1, 0, 0, 0, 0]</td>\n    </tr>\n    <tr>\n      <th>45628</th>\n      <td>262815</td>\n      <td>Russian Beef Stroganoff</td>\n      <td>{u'niacin': {u'hasCompleteData': True, u'name'...</td>\n      <td>235.1897</td>\n      <td>23</td>\n      <td>0.516253</td>\n      <td>115.68080</td>\n      <td>41</td>\n      <td>23</td>\n      <td>1</td>\n      <td>0.271827</td>\n      <td>45628</td>\n      <td>1</td>\n      <td>1</td>\n      <td>1</td>\n      <td>0</td>\n      <td>0</td>\n      <td>0</td>\n      <td>0</td>\n      <td>[1, 1, 1, 0, 0, 0, 0]</td>\n    </tr>\n    <tr>\n      <th>45629</th>\n      <td>262850</td>\n      <td>Peppercorn Steak</td>\n      <td>{u'niacin': {u'hasCompleteData': True, u'name'...</td>\n      <td>551.5228</td>\n      <td>54</td>\n      <td>0.829528</td>\n      <td>165.07310</td>\n      <td>63</td>\n      <td>62</td>\n      <td>2</td>\n      <td>1.474026</td>\n      <td>45629</td>\n      <td>0</td>\n      <td>1</td>\n      <td>1</td>\n      <td>0</td>\n      <td>0</td>\n      <td>0</td>\n      <td>0</td>\n      <td>[0, 1, 1, 0, 0, 0, 0]</td>\n    </tr>\n  </tbody>\n</table>\n<p>45630 rows × 20 columns</p>\n</div>"
     },
     "execution_count": 51,
     "metadata": {},
     "output_type": "execute_result"
    }
   ],
   "source": [
    "recipe_nutrition['i'] = recipe_nutrition['recipe_id'].apply(lambda x: item_to_idx[x])\n",
    "\n",
    "recipe_nutrition['n1'] = recipe_nutrition['fat'].apply(lambda x: 1 if 15 <= x <= 30 else 0)\n",
    "recipe_nutrition['n2'] = recipe_nutrition['sugar'].apply(lambda x: 1 if x < 5 else 0)\n",
    "recipe_nutrition['n3'] = recipe_nutrition['sodium'].apply(lambda x: 1 if x < 2000 else 0)\n",
    "recipe_nutrition['n4'] = recipe_nutrition['protein'].apply(lambda x: 1 if 10 <= x <= 15 else 0)\n",
    "recipe_nutrition['n5'] = recipe_nutrition['saturated_fat'].apply(lambda x: 1 if x < 10 else 0)\n",
    "recipe_nutrition['n6'] = recipe_nutrition['carbohydrates'].apply(lambda x: 1 if 55 <= x <= 75 else 0)\n",
    "recipe_nutrition['n7'] = recipe_nutrition['fiber'].apply(lambda x: 1 if x > 10 else 0)\n",
    "recipe_nutrition = recipe_nutrition.sort_values(by='i').reset_index(drop=True)\n",
    "numeric_columns = recipe_nutrition.iloc[:, -7:].values.tolist()\n",
    "list_df = pd.DataFrame({'nut':numeric_columns})\n",
    "concat = pd.concat([recipe_nutrition, list_df], axis = 1)\n",
    "print(concat['nut'].value_counts())\n",
    "\n",
    "multi_hot_health_dict = {}\n",
    "for index, row in concat.iterrows():\n",
    "    recipe_id = row['i']\n",
    "    health_list = row['nut']\n",
    "    multi_hot_health_dict[recipe_id] = health_list\n",
    "rh_dict_mh = save_path + 'graph_edge/recipe_health_level_multi_hot_dict.pkl'\n",
    "\n",
    "# 将字典保存到 pkl 文件中\n",
    "with open(rh_dict_mh, 'wb') as f:  # 注意要以二进制写入模式打开文件\n",
    "    pickle.dump(multi_hot_health_dict, f)\n",
    "print(\"save health dict\")\n",
    "concat"
   ],
   "metadata": {
    "collapsed": false,
    "ExecuteTime": {
     "end_time": "2025-08-27T16:55:32.371273Z",
     "start_time": "2025-08-27T16:55:30.798480Z"
    }
   },
   "id": "2f9573346b04784a",
   "execution_count": 51
  },
  {
   "cell_type": "code",
   "outputs": [
    {
     "name": "stderr",
     "output_type": "stream",
     "text": [
      "45630it [00:03, 14801.84it/s]\n"
     ]
    },
    {
     "data": {
      "text/plain": "       recipe_id                                        recipe_name  \\\n0           6663                               Crispy Cheese Twists   \n1           6664  Basil, Roasted Peppers and Monterey Jack Cornb...   \n2           6665                                  Mom's Yeast Rolls   \n3           6666                               Sweet Potato Bread I   \n4           6667                                     Cornish Splits   \n...          ...                                                ...   \n45625     262602                             Quick Mushroom Ceviche   \n45626     262646                 Easy Instant Pot® Spaghetti Squash   \n45627     262797                             Easy Pineapple Chicken   \n45628     262815                            Russian Beef Stroganoff   \n45629     262850                                   Peppercorn Steak   \n\n                                              nutritions       cal  fat  \\\n0      {u'niacin': {u'hasCompleteData': True, u'name'...  120.7066   13   \n1      {u'niacin': {u'hasCompleteData': False, u'name...  313.8263   24   \n2      {u'niacin': {u'hasCompleteData': True, u'name'...  104.0672    5   \n3      {u'vitaminC': {u'hasCompleteData': False, u'na...  303.3300   21   \n4      {u'niacin': {u'hasCompleteData': True, u'name'...  197.9225    6   \n...                                                  ...       ...  ...   \n45625  {u'niacin': {u'hasCompleteData': True, u'name'...  170.5983   16   \n45626  {u'niacin': {u'hasCompleteData': False, u'name...  113.2842    3   \n45627  {u'niacin': {u'hasCompleteData': True, u'name'...  307.3315   20   \n45628  {u'niacin': {u'hasCompleteData': True, u'name'...  235.1897   23   \n45629  {u'niacin': {u'hasCompleteData': True, u'name'...  551.5228   54   \n\n           sugar      sodium  protein  saturated_fat  carbohydrates     fiber  \\\n0       0.190441    78.67492        5             11              3  0.329367   \n1       7.169690   623.72670       20             42             11  2.394961   \n2       1.951010   163.35680        5              3              5  0.597292   \n3      26.388880   171.38830        7              9             14  1.555075   \n4       2.975532    97.72266       11             11             11  1.218333   \n...          ...         ...      ...            ...            ...       ...   \n45625   8.305567   739.02870        9              7              7  8.519067   \n45626   0.750000  1044.98600        5              2              8  0.274675   \n45627  14.878050   782.94740       52             11              7  2.953104   \n45628   0.516253   115.68080       41             23              1  0.271827   \n45629   0.829528   165.07310       63             62              2  1.474026   \n\n           i  n1  n2  n3  n4  n5  n6  n7  health  \n0          0   0   1   1   0   0   0   0     2.0  \n1          1   1   0   1   0   0   0   0     2.0  \n2          2   0   1   1   0   1   0   0     3.0  \n3          3   1   0   1   0   1   0   0     3.0  \n4          4   0   1   1   1   0   0   0     3.0  \n...      ...  ..  ..  ..  ..  ..  ..  ..     ...  \n45625  45625   1   0   1   0   1   0   0     3.0  \n45626  45626   0   1   1   0   1   0   0     3.0  \n45627  45627   1   0   1   0   0   0   0     2.0  \n45628  45628   1   1   1   0   0   0   0     3.0  \n45629  45629   0   1   1   0   0   0   0     2.0  \n\n[45630 rows x 20 columns]",
      "text/html": "<div>\n<style scoped>\n    .dataframe tbody tr th:only-of-type {\n        vertical-align: middle;\n    }\n\n    .dataframe tbody tr th {\n        vertical-align: top;\n    }\n\n    .dataframe thead th {\n        text-align: right;\n    }\n</style>\n<table border=\"1\" class=\"dataframe\">\n  <thead>\n    <tr style=\"text-align: right;\">\n      <th></th>\n      <th>recipe_id</th>\n      <th>recipe_name</th>\n      <th>nutritions</th>\n      <th>cal</th>\n      <th>fat</th>\n      <th>sugar</th>\n      <th>sodium</th>\n      <th>protein</th>\n      <th>saturated_fat</th>\n      <th>carbohydrates</th>\n      <th>fiber</th>\n      <th>i</th>\n      <th>n1</th>\n      <th>n2</th>\n      <th>n3</th>\n      <th>n4</th>\n      <th>n5</th>\n      <th>n6</th>\n      <th>n7</th>\n      <th>health</th>\n    </tr>\n  </thead>\n  <tbody>\n    <tr>\n      <th>0</th>\n      <td>6663</td>\n      <td>Crispy Cheese Twists</td>\n      <td>{u'niacin': {u'hasCompleteData': True, u'name'...</td>\n      <td>120.7066</td>\n      <td>13</td>\n      <td>0.190441</td>\n      <td>78.67492</td>\n      <td>5</td>\n      <td>11</td>\n      <td>3</td>\n      <td>0.329367</td>\n      <td>0</td>\n      <td>0</td>\n      <td>1</td>\n      <td>1</td>\n      <td>0</td>\n      <td>0</td>\n      <td>0</td>\n      <td>0</td>\n      <td>2.0</td>\n    </tr>\n    <tr>\n      <th>1</th>\n      <td>6664</td>\n      <td>Basil, Roasted Peppers and Monterey Jack Cornb...</td>\n      <td>{u'niacin': {u'hasCompleteData': False, u'name...</td>\n      <td>313.8263</td>\n      <td>24</td>\n      <td>7.169690</td>\n      <td>623.72670</td>\n      <td>20</td>\n      <td>42</td>\n      <td>11</td>\n      <td>2.394961</td>\n      <td>1</td>\n      <td>1</td>\n      <td>0</td>\n      <td>1</td>\n      <td>0</td>\n      <td>0</td>\n      <td>0</td>\n      <td>0</td>\n      <td>2.0</td>\n    </tr>\n    <tr>\n      <th>2</th>\n      <td>6665</td>\n      <td>Mom's Yeast Rolls</td>\n      <td>{u'niacin': {u'hasCompleteData': True, u'name'...</td>\n      <td>104.0672</td>\n      <td>5</td>\n      <td>1.951010</td>\n      <td>163.35680</td>\n      <td>5</td>\n      <td>3</td>\n      <td>5</td>\n      <td>0.597292</td>\n      <td>2</td>\n      <td>0</td>\n      <td>1</td>\n      <td>1</td>\n      <td>0</td>\n      <td>1</td>\n      <td>0</td>\n      <td>0</td>\n      <td>3.0</td>\n    </tr>\n    <tr>\n      <th>3</th>\n      <td>6666</td>\n      <td>Sweet Potato Bread I</td>\n      <td>{u'vitaminC': {u'hasCompleteData': False, u'na...</td>\n      <td>303.3300</td>\n      <td>21</td>\n      <td>26.388880</td>\n      <td>171.38830</td>\n      <td>7</td>\n      <td>9</td>\n      <td>14</td>\n      <td>1.555075</td>\n      <td>3</td>\n      <td>1</td>\n      <td>0</td>\n      <td>1</td>\n      <td>0</td>\n      <td>1</td>\n      <td>0</td>\n      <td>0</td>\n      <td>3.0</td>\n    </tr>\n    <tr>\n      <th>4</th>\n      <td>6667</td>\n      <td>Cornish Splits</td>\n      <td>{u'niacin': {u'hasCompleteData': True, u'name'...</td>\n      <td>197.9225</td>\n      <td>6</td>\n      <td>2.975532</td>\n      <td>97.72266</td>\n      <td>11</td>\n      <td>11</td>\n      <td>11</td>\n      <td>1.218333</td>\n      <td>4</td>\n      <td>0</td>\n      <td>1</td>\n      <td>1</td>\n      <td>1</td>\n      <td>0</td>\n      <td>0</td>\n      <td>0</td>\n      <td>3.0</td>\n    </tr>\n    <tr>\n      <th>...</th>\n      <td>...</td>\n      <td>...</td>\n      <td>...</td>\n      <td>...</td>\n      <td>...</td>\n      <td>...</td>\n      <td>...</td>\n      <td>...</td>\n      <td>...</td>\n      <td>...</td>\n      <td>...</td>\n      <td>...</td>\n      <td>...</td>\n      <td>...</td>\n      <td>...</td>\n      <td>...</td>\n      <td>...</td>\n      <td>...</td>\n      <td>...</td>\n      <td>...</td>\n    </tr>\n    <tr>\n      <th>45625</th>\n      <td>262602</td>\n      <td>Quick Mushroom Ceviche</td>\n      <td>{u'niacin': {u'hasCompleteData': True, u'name'...</td>\n      <td>170.5983</td>\n      <td>16</td>\n      <td>8.305567</td>\n      <td>739.02870</td>\n      <td>9</td>\n      <td>7</td>\n      <td>7</td>\n      <td>8.519067</td>\n      <td>45625</td>\n      <td>1</td>\n      <td>0</td>\n      <td>1</td>\n      <td>0</td>\n      <td>1</td>\n      <td>0</td>\n      <td>0</td>\n      <td>3.0</td>\n    </tr>\n    <tr>\n      <th>45626</th>\n      <td>262646</td>\n      <td>Easy Instant Pot® Spaghetti Squash</td>\n      <td>{u'niacin': {u'hasCompleteData': False, u'name...</td>\n      <td>113.2842</td>\n      <td>3</td>\n      <td>0.750000</td>\n      <td>1044.98600</td>\n      <td>5</td>\n      <td>2</td>\n      <td>8</td>\n      <td>0.274675</td>\n      <td>45626</td>\n      <td>0</td>\n      <td>1</td>\n      <td>1</td>\n      <td>0</td>\n      <td>1</td>\n      <td>0</td>\n      <td>0</td>\n      <td>3.0</td>\n    </tr>\n    <tr>\n      <th>45627</th>\n      <td>262797</td>\n      <td>Easy Pineapple Chicken</td>\n      <td>{u'niacin': {u'hasCompleteData': True, u'name'...</td>\n      <td>307.3315</td>\n      <td>20</td>\n      <td>14.878050</td>\n      <td>782.94740</td>\n      <td>52</td>\n      <td>11</td>\n      <td>7</td>\n      <td>2.953104</td>\n      <td>45627</td>\n      <td>1</td>\n      <td>0</td>\n      <td>1</td>\n      <td>0</td>\n      <td>0</td>\n      <td>0</td>\n      <td>0</td>\n      <td>2.0</td>\n    </tr>\n    <tr>\n      <th>45628</th>\n      <td>262815</td>\n      <td>Russian Beef Stroganoff</td>\n      <td>{u'niacin': {u'hasCompleteData': True, u'name'...</td>\n      <td>235.1897</td>\n      <td>23</td>\n      <td>0.516253</td>\n      <td>115.68080</td>\n      <td>41</td>\n      <td>23</td>\n      <td>1</td>\n      <td>0.271827</td>\n      <td>45628</td>\n      <td>1</td>\n      <td>1</td>\n      <td>1</td>\n      <td>0</td>\n      <td>0</td>\n      <td>0</td>\n      <td>0</td>\n      <td>3.0</td>\n    </tr>\n    <tr>\n      <th>45629</th>\n      <td>262850</td>\n      <td>Peppercorn Steak</td>\n      <td>{u'niacin': {u'hasCompleteData': True, u'name'...</td>\n      <td>551.5228</td>\n      <td>54</td>\n      <td>0.829528</td>\n      <td>165.07310</td>\n      <td>63</td>\n      <td>62</td>\n      <td>2</td>\n      <td>1.474026</td>\n      <td>45629</td>\n      <td>0</td>\n      <td>1</td>\n      <td>1</td>\n      <td>0</td>\n      <td>0</td>\n      <td>0</td>\n      <td>0</td>\n      <td>2.0</td>\n    </tr>\n  </tbody>\n</table>\n<p>45630 rows × 20 columns</p>\n</div>"
     },
     "execution_count": 52,
     "metadata": {},
     "output_type": "execute_result"
    }
   ],
   "source": [
    "for idx, row in tqdm(recipe_nutrition.iterrows()):\n",
    "    health_level = 0\n",
    "    # 65g\n",
    "    if 15 <= row['fat'] <= 30:\n",
    "        health_level += 1\n",
    "    # WHO healthy sugars 50g per day, and PDV <10% is health, 5g for amount \n",
    "    if row['sugar'] < 5:\n",
    "        health_level += 1\n",
    "    # WHO healthy sodium 2g(2000mg) per day, daily 2400mg, 2/2.4 = 83 for percent\n",
    "    # WHO healthy salt 5g per day, daily 6000mg\n",
    "    if row['sodium'] < 2000:\n",
    "        health_level += 1\n",
    "    # 50g\n",
    "    if 10 <= row['protein'] <= 15:\n",
    "        health_level += 1\n",
    "    # 20g\n",
    "    if row['saturated_fat'] < 10:\n",
    "        health_level += 1\n",
    "        # 300g\n",
    "    if 55 <= row['carbohydrates'] <= 75:\n",
    "        health_level += 1\n",
    "    # >25g\n",
    "    if row['fiber'] > 10:\n",
    "        health_level += 1\n",
    "    recipe_nutrition.at[idx, 'health'] = health_level\n",
    "recipe_nutrition"
   ],
   "metadata": {
    "collapsed": false,
    "ExecuteTime": {
     "end_time": "2025-08-27T16:57:07.719283Z",
     "start_time": "2025-08-27T16:57:04.597858Z"
    }
   },
   "id": "2f87e10e80324d03",
   "execution_count": 52
  },
  {
   "cell_type": "code",
   "outputs": [
    {
     "name": "stdout",
     "output_type": "stream",
     "text": [
      "health\n",
      "2.0    20496\n",
      "3.0    13015\n",
      "1.0     9218\n",
      "4.0     2238\n",
      "0.0      535\n",
      "5.0      128\n",
      "Name: count, dtype: int64\n",
      "save health dict\n",
      "(45630, 2)\n",
      "NumPy array saved as 'rh_graph.txt'\n",
      "testing for shape, rh_graph is (45630, 2)\n"
     ]
    }
   ],
   "source": [
    "recipe_nutrition['i'] = recipe_nutrition['recipe_id'].apply(lambda x: item_to_idx[x])\n",
    "print(recipe_nutrition['health'].value_counts())\n",
    "\n",
    "health_dict = {}\n",
    "for index, row in recipe_nutrition.iterrows():\n",
    "    recipe_id = row['i']\n",
    "    health_amount = row['health']\n",
    "    health_dict[recipe_id] = int(health_amount)\n",
    "rh_dict = save_path + 'graph_edge/recipe_health_level_dict.pkl'\n",
    "\n",
    "# 将字典保存到 pkl 文件中\n",
    "with open(rh_dict, 'wb') as f:  # 注意要以二进制写入模式打开文件\n",
    "    pickle.dump(health_dict, f)\n",
    "print(\"save health dict\")\n",
    "\n",
    "import numpy as np\n",
    "# recipe-health graph edge\n",
    "rh_list = []\n",
    "for key, value in health_dict.items():\n",
    "    rh_list.append([key, value])\n",
    "rh_array = np.array(rh_list).astype(np.int_)\n",
    "\n",
    "print(rh_array.shape)\n",
    "\n",
    "rh_path = save_path + 'graph_edge/rh_graph.txt'\n",
    "with open(rh_path, 'w') as f:\n",
    "    np.savetxt(f, rh_array, fmt='%d')\n",
    "print(\"NumPy array saved as 'rh_graph.txt'\")\n",
    "\n",
    "with open(rh_path, 'r') as f:\n",
    "    ab = np.loadtxt(f, dtype=np.int_)\n",
    "print(f\"testing for shape, rh_graph is {ab.shape}\")\n"
   ],
   "metadata": {
    "collapsed": false,
    "ExecuteTime": {
     "end_time": "2025-08-27T16:59:38.524889Z",
     "start_time": "2025-08-27T16:59:36.976446Z"
    }
   },
   "id": "78c07f7555149048",
   "execution_count": 53
  }
 ],
 "metadata": {
  "kernelspec": {
   "name": "zyx2509",
   "language": "python",
   "display_name": "zyx (2509)"
  },
  "language_info": {
   "codemirror_mode": {
    "name": "ipython",
    "version": 2
   },
   "file_extension": ".py",
   "mimetype": "text/x-python",
   "name": "python",
   "nbconvert_exporter": "python",
   "pygments_lexer": "ipython2",
   "version": "2.7.6"
  }
 },
 "nbformat": 4,
 "nbformat_minor": 5
}
