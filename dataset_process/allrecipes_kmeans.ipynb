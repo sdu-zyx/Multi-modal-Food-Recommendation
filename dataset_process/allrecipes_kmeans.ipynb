{
 "cells": [
  {
   "cell_type": "code",
   "execution_count": 2,
   "id": "initial_id",
   "metadata": {
    "collapsed": true,
    "ExecuteTime": {
     "end_time": "2025-08-28T06:12:34.191240Z",
     "start_time": "2025-08-28T06:03:06.917063Z"
    }
   },
   "outputs": [
    {
     "name": "stdout",
     "output_type": "stream",
     "text": [
      "feature_embedding, (45630, 2048)\n"
     ]
    },
    {
     "name": "stderr",
     "output_type": "stream",
     "text": [
      "/home/miniconda3/envs/zyx2509/lib/python3.10/site-packages/sklearn/cluster/_kmeans.py:2082: RuntimeWarning: init_size=512 should be larger than n_clusters=2000. Setting it to min(3*n_clusters, n_samples)\n",
      "  self._check_params_vs_input(X)\n"
     ]
    },
    {
     "name": "stdout",
     "output_type": "stream",
     "text": [
      "(2000, 2048)\n"
     ]
    },
    {
     "name": "stderr",
     "output_type": "stream",
     "text": [
      "100%|███████████████████████████████████████████████████████████████████████████████████████████████████████████████████████████████████████████████████████████████████████████████████████████████████████████████████████████████████| 45630/45630 [08:22<00:00, 90.88it/s]\n"
     ]
    }
   ],
   "source": [
    "from sklearn.cluster import MiniBatchKMeans\n",
    "import numpy as np\n",
    "from tqdm import tqdm\n",
    "\n",
    "interaction_path = '/home/zyx2509/Food_dataset/Allrecipes/processed_dataset/'\n",
    "embImage = np.load(interaction_path + 'data_image_features_float.npy')\n",
    "embText = np.load(interaction_path + 'data_text_features_t5.npy')\n",
    "\n",
    "kmeans = MiniBatchKMeans(n_clusters=2000, init_size=512, batch_size=1024, random_state=2024)\n",
    "print('feature_embedding,', embImage.shape)\n",
    "kmeans.fit(embImage)\n",
    "centers = kmeans.cluster_centers_  # [C * D]\n",
    "print(centers.shape)\n",
    "\n",
    "center_feature = {}\n",
    "for c_id in range(len(centers)):\n",
    "    arr = centers[c_id]\n",
    "    center_feature[c_id] = arr\n",
    "\n",
    "v_cluster_list = []\n",
    "for each_embedding in tqdm(embImage):\n",
    "    distances = [np.linalg.norm(each_embedding - arr) for arr in centers]\n",
    "    v_cluster_list.append(list(np.argsort(distances)[:10]))\n",
    "\n"
   ]
  },
  {
   "cell_type": "code",
   "outputs": [
    {
     "name": "stderr",
     "output_type": "stream",
     "text": [
      "45630it [00:00, 175430.83it/s]\n"
     ]
    },
    {
     "name": "stdout",
     "output_type": "stream",
     "text": [
      "273780\n",
      "(273780, 2)\n",
      "NumPy array saved as 'image_cluster_edge.txt'\n"
     ]
    }
   ],
   "source": [
    "v_cluster_edge = []\n",
    "for iid, c_set in tqdm(zip(list(np.arange(len(embImage))), v_cluster_list)):\n",
    "    c_set = c_set[:6]\n",
    "    for cid in c_set:\n",
    "        v_cluster_edge.append([iid, cid])\n",
    "print(len(v_cluster_edge))\n",
    "imageC_array = np.array(v_cluster_edge).astype(np.int_)\n",
    "print(imageC_array.shape)\n",
    "\n",
    "imageC_path = interaction_path + 'cluster/image_cluster_edge.txt'\n",
    "with open(imageC_path, 'w') as f:\n",
    "    np.savetxt(f, imageC_array, fmt='%d')\n",
    "print(\"NumPy array saved as 'image_cluster_edge.txt'\")\n",
    "\n",
    "np.save(interaction_path + 'cluster/image_center.npy', centers)\n"
   ],
   "metadata": {
    "collapsed": false,
    "ExecuteTime": {
     "end_time": "2025-08-29T03:11:14.785623Z",
     "start_time": "2025-08-29T03:11:14.127338Z"
    }
   },
   "id": "62cc629fbe9a223c",
   "execution_count": 3
  },
  {
   "cell_type": "code",
   "outputs": [
    {
     "name": "stdout",
     "output_type": "stream",
     "text": [
      "feature_embedding, (45630, 512)\n"
     ]
    },
    {
     "name": "stderr",
     "output_type": "stream",
     "text": [
      "/home/miniconda3/envs/zyx2509/lib/python3.10/site-packages/sklearn/cluster/_kmeans.py:2082: RuntimeWarning: init_size=512 should be larger than n_clusters=2000. Setting it to min(3*n_clusters, n_samples)\n",
      "  self._check_params_vs_input(X)\n"
     ]
    },
    {
     "name": "stdout",
     "output_type": "stream",
     "text": [
      "(2000, 512)\n"
     ]
    },
    {
     "name": "stderr",
     "output_type": "stream",
     "text": [
      "100%|██████████████████████████████████████████████████████████████████████████████████████████████████████████████████████████████████████████████████████████████████████████████████████████████████████████████████████████████████| 45630/45630 [05:15<00:00, 144.41it/s]\n"
     ]
    }
   ],
   "source": [
    "\n",
    "kmeans = MiniBatchKMeans(n_clusters=2000, init_size=512, batch_size=1024, random_state=2024)\n",
    "print('feature_embedding,', embText.shape)\n",
    "kmeans.fit(embText)\n",
    "centers = kmeans.cluster_centers_  # [C * D]\n",
    "print(centers.shape)\n",
    "\n",
    "center_feature = {}\n",
    "for c_id in range(len(centers)):\n",
    "    arr = centers[c_id]\n",
    "    center_feature[c_id] = arr\n",
    "\n",
    "t_cluster_list = []\n",
    "for each_embedding in tqdm(embText):\n",
    "    distances = [np.linalg.norm(each_embedding - arr) for arr in centers]\n",
    "    t_cluster_list.append(list(np.argsort(distances)[:10]))\n"
   ],
   "metadata": {
    "collapsed": false,
    "ExecuteTime": {
     "end_time": "2025-08-29T03:17:54.229937Z",
     "start_time": "2025-08-29T03:12:30.960782Z"
    }
   },
   "id": "e685a036293bc8d4",
   "execution_count": 4
  },
  {
   "cell_type": "code",
   "outputs": [
    {
     "name": "stderr",
     "output_type": "stream",
     "text": [
      "45630it [00:00, 205573.32it/s]\n"
     ]
    },
    {
     "name": "stdout",
     "output_type": "stream",
     "text": [
      "273780\n",
      "(273780, 2)\n",
      "NumPy array saved as 'text_cluster_edge.txt'\n"
     ]
    }
   ],
   "source": [
    "t_cluster_edge = []\n",
    "for iid, c_set in tqdm(zip(list(np.arange(len(embText))), t_cluster_list)):\n",
    "    c_set = c_set[:6]\n",
    "    for cid in c_set:\n",
    "        t_cluster_edge.append([iid, cid])\n",
    "print(len(t_cluster_edge))\n",
    "textC_array = np.array(t_cluster_edge).astype(np.int_)\n",
    "print(textC_array.shape)\n",
    "textC_path = interaction_path + 'cluster/text_cluster_edge.txt'\n",
    "with open(textC_path, 'w') as f:\n",
    "    np.savetxt(f, textC_array, fmt='%d')\n",
    "print(\"NumPy array saved as 'text_cluster_edge.txt'\")\n",
    "\n",
    "np.save(interaction_path + 'cluster/text_center.npy', centers)\n"
   ],
   "metadata": {
    "collapsed": false,
    "ExecuteTime": {
     "end_time": "2025-08-29T03:26:41.909160Z",
     "start_time": "2025-08-29T03:26:41.314129Z"
    }
   },
   "id": "6b43aa55670d2b4d",
   "execution_count": 5
  }
 ],
 "metadata": {
  "kernelspec": {
   "name": "zyx2509",
   "language": "python",
   "display_name": "zyx (2509)"
  },
  "language_info": {
   "codemirror_mode": {
    "name": "ipython",
    "version": 2
   },
   "file_extension": ".py",
   "mimetype": "text/x-python",
   "name": "python",
   "nbconvert_exporter": "python",
   "pygments_lexer": "ipython2",
   "version": "2.7.6"
  }
 },
 "nbformat": 4,
 "nbformat_minor": 5
}
